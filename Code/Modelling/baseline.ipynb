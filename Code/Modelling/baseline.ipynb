{
 "cells": [
  {
   "cell_type": "markdown",
   "metadata": {},
   "source": [
    "# Imports"
   ]
  },
  {
   "cell_type": "code",
   "execution_count": 1,
   "metadata": {},
   "outputs": [],
   "source": [
    "import pandas as pd\n",
    "import re\n",
    "import joblib"
   ]
  },
  {
   "cell_type": "code",
   "execution_count": 2,
   "metadata": {},
   "outputs": [],
   "source": [
    "data = pd.read_csv('../../Data/magicbricks_lr.csv')"
   ]
  },
  {
   "cell_type": "markdown",
   "metadata": {},
   "source": [
    "# Preprocessing"
   ]
  },
  {
   "cell_type": "code",
   "execution_count": 3,
   "metadata": {},
   "outputs": [],
   "source": [
    "data = data[data['Location_Score'] > 0]"
   ]
  },
  {
   "cell_type": "code",
   "execution_count": 4,
   "metadata": {},
   "outputs": [],
   "source": [
    "# Columns to drop\n",
    "\n",
    "def get_column_status():\n",
    "    \"\"\"Make a df of all columns and their num nan values, dtype, num unique values\"\"\"\n",
    "    cols = data.columns.tolist()\n",
    "    col_status = pd.DataFrame(columns=['column', 'num_nan', 'dtype', 'num_unique'])\n",
    "    for col in cols:\n",
    "        col_status.loc[len(col_status)] = [col, data[col].isna().sum(), data[col].dtype, data[col].nunique()]\n",
    "    return col_status"
   ]
  },
  {
   "cell_type": "code",
   "execution_count": 5,
   "metadata": {},
   "outputs": [
    {
     "data": {
      "text/html": [
       "<div>\n",
       "<style scoped>\n",
       "    .dataframe tbody tr th:only-of-type {\n",
       "        vertical-align: middle;\n",
       "    }\n",
       "\n",
       "    .dataframe tbody tr th {\n",
       "        vertical-align: top;\n",
       "    }\n",
       "\n",
       "    .dataframe thead th {\n",
       "        text-align: right;\n",
       "    }\n",
       "</style>\n",
       "<table border=\"1\" class=\"dataframe\">\n",
       "  <thead>\n",
       "    <tr style=\"text-align: right;\">\n",
       "      <th></th>\n",
       "      <th>column</th>\n",
       "      <th>num_nan</th>\n",
       "      <th>dtype</th>\n",
       "      <th>num_unique</th>\n",
       "    </tr>\n",
       "  </thead>\n",
       "  <tbody>\n",
       "    <tr>\n",
       "      <th>13</th>\n",
       "      <td>Unnamed: 13</td>\n",
       "      <td>1179</td>\n",
       "      <td>float64</td>\n",
       "      <td>0</td>\n",
       "    </tr>\n",
       "    <tr>\n",
       "      <th>49</th>\n",
       "      <td>Unnamed: 49</td>\n",
       "      <td>1179</td>\n",
       "      <td>float64</td>\n",
       "      <td>0</td>\n",
       "    </tr>\n",
       "    <tr>\n",
       "      <th>45</th>\n",
       "      <td>Unnamed: 45</td>\n",
       "      <td>1179</td>\n",
       "      <td>float64</td>\n",
       "      <td>0</td>\n",
       "    </tr>\n",
       "    <tr>\n",
       "      <th>47</th>\n",
       "      <td>Unnamed: 47</td>\n",
       "      <td>1179</td>\n",
       "      <td>float64</td>\n",
       "      <td>0</td>\n",
       "    </tr>\n",
       "    <tr>\n",
       "      <th>48</th>\n",
       "      <td>Unnamed: 48</td>\n",
       "      <td>1179</td>\n",
       "      <td>float64</td>\n",
       "      <td>0</td>\n",
       "    </tr>\n",
       "    <tr>\n",
       "      <th>46</th>\n",
       "      <td>Unnamed: 46</td>\n",
       "      <td>1179</td>\n",
       "      <td>float64</td>\n",
       "      <td>0</td>\n",
       "    </tr>\n",
       "    <tr>\n",
       "      <th>35</th>\n",
       "      <td>Car Parking</td>\n",
       "      <td>1177</td>\n",
       "      <td>object</td>\n",
       "      <td>1</td>\n",
       "    </tr>\n",
       "    <tr>\n",
       "      <th>34</th>\n",
       "      <td>Possession by</td>\n",
       "      <td>1173</td>\n",
       "      <td>object</td>\n",
       "      <td>4</td>\n",
       "    </tr>\n",
       "    <tr>\n",
       "      <th>26</th>\n",
       "      <td>Floors allowed for construction</td>\n",
       "      <td>1146</td>\n",
       "      <td>float64</td>\n",
       "      <td>6</td>\n",
       "    </tr>\n",
       "    <tr>\n",
       "      <th>33</th>\n",
       "      <td>RERA ID</td>\n",
       "      <td>1131</td>\n",
       "      <td>object</td>\n",
       "      <td>34</td>\n",
       "    </tr>\n",
       "    <tr>\n",
       "      <th>42</th>\n",
       "      <td>Bathroom</td>\n",
       "      <td>1116</td>\n",
       "      <td>float64</td>\n",
       "      <td>1</td>\n",
       "    </tr>\n",
       "    <tr>\n",
       "      <th>29</th>\n",
       "      <td>Loan Offered by</td>\n",
       "      <td>1113</td>\n",
       "      <td>object</td>\n",
       "      <td>16</td>\n",
       "    </tr>\n",
       "    <tr>\n",
       "      <th>44</th>\n",
       "      <td>Lifts</td>\n",
       "      <td>1101</td>\n",
       "      <td>object</td>\n",
       "      <td>4</td>\n",
       "    </tr>\n",
       "    <tr>\n",
       "      <th>43</th>\n",
       "      <td>Study Room</td>\n",
       "      <td>1051</td>\n",
       "      <td>float64</td>\n",
       "      <td>1</td>\n",
       "    </tr>\n",
       "    <tr>\n",
       "      <th>40</th>\n",
       "      <td>Servant Room</td>\n",
       "      <td>986</td>\n",
       "      <td>float64</td>\n",
       "      <td>1</td>\n",
       "    </tr>\n",
       "    <tr>\n",
       "      <th>31</th>\n",
       "      <td>Super area</td>\n",
       "      <td>982</td>\n",
       "      <td>object</td>\n",
       "      <td>106</td>\n",
       "    </tr>\n",
       "    <tr>\n",
       "      <th>36</th>\n",
       "      <td>Puja Room</td>\n",
       "      <td>965</td>\n",
       "      <td>float64</td>\n",
       "      <td>1</td>\n",
       "    </tr>\n",
       "    <tr>\n",
       "      <th>37</th>\n",
       "      <td>Plot area</td>\n",
       "      <td>948</td>\n",
       "      <td>object</td>\n",
       "      <td>98</td>\n",
       "    </tr>\n",
       "    <tr>\n",
       "      <th>28</th>\n",
       "      <td>Brokerage Response</td>\n",
       "      <td>930</td>\n",
       "      <td>object</td>\n",
       "      <td>1</td>\n",
       "    </tr>\n",
       "    <tr>\n",
       "      <th>38</th>\n",
       "      <td>Store Room</td>\n",
       "      <td>899</td>\n",
       "      <td>float64</td>\n",
       "      <td>1</td>\n",
       "    </tr>\n",
       "    <tr>\n",
       "      <th>39</th>\n",
       "      <td>Units Available</td>\n",
       "      <td>881</td>\n",
       "      <td>float64</td>\n",
       "      <td>17</td>\n",
       "    </tr>\n",
       "    <tr>\n",
       "      <th>30</th>\n",
       "      <td>Amenities</td>\n",
       "      <td>843</td>\n",
       "      <td>object</td>\n",
       "      <td>167</td>\n",
       "    </tr>\n",
       "    <tr>\n",
       "      <th>6</th>\n",
       "      <td>Developer</td>\n",
       "      <td>827</td>\n",
       "      <td>object</td>\n",
       "      <td>57</td>\n",
       "    </tr>\n",
       "    <tr>\n",
       "      <th>7</th>\n",
       "      <td>Project</td>\n",
       "      <td>781</td>\n",
       "      <td>object</td>\n",
       "      <td>236</td>\n",
       "    </tr>\n",
       "    <tr>\n",
       "      <th>41</th>\n",
       "      <td>Balcony</td>\n",
       "      <td>698</td>\n",
       "      <td>float64</td>\n",
       "      <td>1</td>\n",
       "    </tr>\n",
       "    <tr>\n",
       "      <th>3</th>\n",
       "      <td>Balconies</td>\n",
       "      <td>586</td>\n",
       "      <td>float64</td>\n",
       "      <td>6</td>\n",
       "    </tr>\n",
       "    <tr>\n",
       "      <th>22</th>\n",
       "      <td>Lift</td>\n",
       "      <td>574</td>\n",
       "      <td>object</td>\n",
       "      <td>8</td>\n",
       "    </tr>\n",
       "    <tr>\n",
       "      <th>25</th>\n",
       "      <td>Authority Approval</td>\n",
       "      <td>465</td>\n",
       "      <td>object</td>\n",
       "      <td>8</td>\n",
       "    </tr>\n",
       "    <tr>\n",
       "      <th>21</th>\n",
       "      <td>Status of Electricity</td>\n",
       "      <td>410</td>\n",
       "      <td>object</td>\n",
       "      <td>2</td>\n",
       "    </tr>\n",
       "    <tr>\n",
       "      <th>20</th>\n",
       "      <td>Water Availability</td>\n",
       "      <td>407</td>\n",
       "      <td>object</td>\n",
       "      <td>5</td>\n",
       "    </tr>\n",
       "    <tr>\n",
       "      <th>32</th>\n",
       "      <td>Furnished status</td>\n",
       "      <td>342</td>\n",
       "      <td>object</td>\n",
       "      <td>3</td>\n",
       "    </tr>\n",
       "    <tr>\n",
       "      <th>5</th>\n",
       "      <td>Loading</td>\n",
       "      <td>328</td>\n",
       "      <td>object</td>\n",
       "      <td>75</td>\n",
       "    </tr>\n",
       "    <tr>\n",
       "      <th>19</th>\n",
       "      <td>Flooring</td>\n",
       "      <td>283</td>\n",
       "      <td>object</td>\n",
       "      <td>128</td>\n",
       "    </tr>\n",
       "    <tr>\n",
       "      <th>16</th>\n",
       "      <td>Landmarks</td>\n",
       "      <td>242</td>\n",
       "      <td>object</td>\n",
       "      <td>843</td>\n",
       "    </tr>\n",
       "    <tr>\n",
       "      <th>4</th>\n",
       "      <td>Carpet area</td>\n",
       "      <td>201</td>\n",
       "      <td>object</td>\n",
       "      <td>217</td>\n",
       "    </tr>\n",
       "    <tr>\n",
       "      <th>18</th>\n",
       "      <td>Overlooking</td>\n",
       "      <td>194</td>\n",
       "      <td>object</td>\n",
       "      <td>12</td>\n",
       "    </tr>\n",
       "    <tr>\n",
       "      <th>17</th>\n",
       "      <td>Facing</td>\n",
       "      <td>155</td>\n",
       "      <td>object</td>\n",
       "      <td>16</td>\n",
       "    </tr>\n",
       "    <tr>\n",
       "      <th>14</th>\n",
       "      <td>Facilities</td>\n",
       "      <td>125</td>\n",
       "      <td>object</td>\n",
       "      <td>863</td>\n",
       "    </tr>\n",
       "    <tr>\n",
       "      <th>27</th>\n",
       "      <td>Type of Ownership</td>\n",
       "      <td>102</td>\n",
       "      <td>object</td>\n",
       "      <td>4</td>\n",
       "    </tr>\n",
       "    <tr>\n",
       "      <th>23</th>\n",
       "      <td>Age of Construction</td>\n",
       "      <td>84</td>\n",
       "      <td>object</td>\n",
       "      <td>7</td>\n",
       "    </tr>\n",
       "    <tr>\n",
       "      <th>2</th>\n",
       "      <td>Bathrooms</td>\n",
       "      <td>64</td>\n",
       "      <td>float64</td>\n",
       "      <td>4</td>\n",
       "    </tr>\n",
       "    <tr>\n",
       "      <th>8</th>\n",
       "      <td>Status</td>\n",
       "      <td>59</td>\n",
       "      <td>object</td>\n",
       "      <td>2</td>\n",
       "    </tr>\n",
       "    <tr>\n",
       "      <th>10</th>\n",
       "      <td>Floor</td>\n",
       "      <td>33</td>\n",
       "      <td>object</td>\n",
       "      <td>115</td>\n",
       "    </tr>\n",
       "    <tr>\n",
       "      <th>11</th>\n",
       "      <td>Car parking</td>\n",
       "      <td>2</td>\n",
       "      <td>object</td>\n",
       "      <td>21</td>\n",
       "    </tr>\n",
       "    <tr>\n",
       "      <th>24</th>\n",
       "      <td>Furnishing</td>\n",
       "      <td>1</td>\n",
       "      <td>object</td>\n",
       "      <td>3</td>\n",
       "    </tr>\n",
       "    <tr>\n",
       "      <th>0</th>\n",
       "      <td>url</td>\n",
       "      <td>0</td>\n",
       "      <td>object</td>\n",
       "      <td>1179</td>\n",
       "    </tr>\n",
       "    <tr>\n",
       "      <th>1</th>\n",
       "      <td>Bedrooms</td>\n",
       "      <td>0</td>\n",
       "      <td>object</td>\n",
       "      <td>6</td>\n",
       "    </tr>\n",
       "    <tr>\n",
       "      <th>15</th>\n",
       "      <td>Address</td>\n",
       "      <td>0</td>\n",
       "      <td>object</td>\n",
       "      <td>878</td>\n",
       "    </tr>\n",
       "    <tr>\n",
       "      <th>12</th>\n",
       "      <td>Price Breakup</td>\n",
       "      <td>0</td>\n",
       "      <td>object</td>\n",
       "      <td>854</td>\n",
       "    </tr>\n",
       "    <tr>\n",
       "      <th>9</th>\n",
       "      <td>Transaction type</td>\n",
       "      <td>0</td>\n",
       "      <td>object</td>\n",
       "      <td>3</td>\n",
       "    </tr>\n",
       "    <tr>\n",
       "      <th>50</th>\n",
       "      <td>Location_Score</td>\n",
       "      <td>0</td>\n",
       "      <td>float64</td>\n",
       "      <td>10</td>\n",
       "    </tr>\n",
       "  </tbody>\n",
       "</table>\n",
       "</div>"
      ],
      "text/plain": [
       "                             column num_nan    dtype num_unique\n",
       "13                      Unnamed: 13    1179  float64          0\n",
       "49                      Unnamed: 49    1179  float64          0\n",
       "45                      Unnamed: 45    1179  float64          0\n",
       "47                      Unnamed: 47    1179  float64          0\n",
       "48                      Unnamed: 48    1179  float64          0\n",
       "46                      Unnamed: 46    1179  float64          0\n",
       "35                      Car Parking    1177   object          1\n",
       "34                    Possession by    1173   object          4\n",
       "26  Floors allowed for construction    1146  float64          6\n",
       "33                          RERA ID    1131   object         34\n",
       "42                         Bathroom    1116  float64          1\n",
       "29                  Loan Offered by    1113   object         16\n",
       "44                            Lifts    1101   object          4\n",
       "43                       Study Room    1051  float64          1\n",
       "40                     Servant Room     986  float64          1\n",
       "31                       Super area     982   object        106\n",
       "36                        Puja Room     965  float64          1\n",
       "37                        Plot area     948   object         98\n",
       "28               Brokerage Response     930   object          1\n",
       "38                       Store Room     899  float64          1\n",
       "39                  Units Available     881  float64         17\n",
       "30                        Amenities     843   object        167\n",
       "6                         Developer     827   object         57\n",
       "7                           Project     781   object        236\n",
       "41                          Balcony     698  float64          1\n",
       "3                         Balconies     586  float64          6\n",
       "22                             Lift     574   object          8\n",
       "25               Authority Approval     465   object          8\n",
       "21            Status of Electricity     410   object          2\n",
       "20               Water Availability     407   object          5\n",
       "32                 Furnished status     342   object          3\n",
       "5                           Loading     328   object         75\n",
       "19                         Flooring     283   object        128\n",
       "16                        Landmarks     242   object        843\n",
       "4                       Carpet area     201   object        217\n",
       "18                      Overlooking     194   object         12\n",
       "17                           Facing     155   object         16\n",
       "14                       Facilities     125   object        863\n",
       "27                Type of Ownership     102   object          4\n",
       "23              Age of Construction      84   object          7\n",
       "2                         Bathrooms      64  float64          4\n",
       "8                            Status      59   object          2\n",
       "10                            Floor      33   object        115\n",
       "11                      Car parking       2   object         21\n",
       "24                       Furnishing       1   object          3\n",
       "0                               url       0   object       1179\n",
       "1                          Bedrooms       0   object          6\n",
       "15                          Address       0   object        878\n",
       "12                    Price Breakup       0   object        854\n",
       "9                  Transaction type       0   object          3\n",
       "50                   Location_Score       0  float64         10"
      ]
     },
     "execution_count": 5,
     "metadata": {},
     "output_type": "execute_result"
    }
   ],
   "source": [
    "status = get_column_status()\n",
    "status.sort_values(by='num_nan', ascending=False)"
   ]
  },
  {
   "cell_type": "code",
   "execution_count": 6,
   "metadata": {},
   "outputs": [],
   "source": [
    "# For rows where Car parking has missing values check if Car Parking has a value and if so, replace the missing value with the value\n",
    "missing_indices = data[data['Car parking'].isna()].index\n",
    "for index in missing_indices:\n",
    "    if not pd.isna(data.loc[index, 'Car Parking']):\n",
    "        data.loc[index, 'Car parking'] = data.loc[index, 'Car Parking']"
   ]
  },
  {
   "cell_type": "code",
   "execution_count": 7,
   "metadata": {},
   "outputs": [],
   "source": [
    "cols_to_keep = ['Bedrooms', 'Car parking', 'Furnishing', 'Bathrooms', 'Floor', 'Status', 'Price Breakup', 'Location_Score']\n",
    "filtered_data = data[cols_to_keep]"
   ]
  },
  {
   "cell_type": "code",
   "execution_count": 8,
   "metadata": {},
   "outputs": [],
   "source": [
    "def feature_engineering(data: pd.DataFrame) -> pd.DataFrame:\n",
    "\n",
    "    def get_price(price: str):\n",
    "        \"\"\"\n",
    "        '₹ 1.72 Cr ₹ 12,03,923 Stamp Duty, Registration Charges ₹ 2,800 Monthly\\nSee Other Charges' -> ₹ 1.72 Cr\n",
    "        '₹ 1.58 Cr ₹ 11,05,986 Stamp Duty, Registration Charges ₹ 2,500 Monthly\\nSee Other Charges' -> ₹ 1.58 Cr\n",
    "        '₹ 1.27 Cr ₹ 8,88,930 Stamp Duty, Registration Charges ₹ 2,850 Monthly\\nSee Other Charges' -> ₹ 1.27 Cr\n",
    "        \"\"\"\n",
    "        if type(price) == str:\n",
    "            num = re.search(r'[.\\d]+', price).group()\n",
    "            suffix = re.search(r'Lac|Cr', price).group()\n",
    "            if suffix == 'Lac':\n",
    "                num = float(num)\n",
    "            elif suffix == 'Cr':\n",
    "                num = float(num) * 100\n",
    "            return int(num)\n",
    "\n",
    "\n",
    "    data = data.copy()\n",
    "    # Bedrooms\n",
    "    digits_regex = re.compile(r'[\\-\\d]+')\n",
    "    data.loc[:, 'Bedrooms'] = data['Bedrooms'].apply(lambda x: int(digits_regex.search(x).group()) if type(x) == str else x)\n",
    "    data.loc[:, 'Bedrooms'] = data['Bedrooms'].fillna(data['Bedrooms'].mode()[0])\n",
    "    data.loc[:, 'Bedrooms'] = data['Bedrooms'].astype(int)\n",
    "\n",
    "    # Car parking\n",
    "    # Find all numbers and add\n",
    "    data.loc[:, 'Car parking'] = data['Car parking'].apply(lambda x: int(sum(map(int, digits_regex.findall(x)))) if type(x) == str and digits_regex.search(x) else x)\n",
    "    data.loc[:, 'Car parking'] = data['Car parking'].apply(lambda x: x.replace('None', '0') if 'None' in str(x) else x)\n",
    "    data.loc[:, 'Car parking'] = data['Car parking'].fillna(data['Car parking'].mode()[0])\n",
    "    data.loc[:, 'Car parking'] = data['Car parking'].astype(int)\n",
    "\n",
    "    # Furnishing\n",
    "    data.loc[:, 'Furnishing'] = data['Furnishing'].fillna(data['Furnishing'].mode()[0])\n",
    "    data.loc[:, 'Furnishing'] = data['Furnishing'].astype('category')\n",
    "\n",
    "    # Bathrooms\n",
    "    data.loc[:, 'Bathrooms'] = data['Bathrooms'].fillna(data['Bathrooms'].mode()[0])\n",
    "    data.loc[:, 'Bathrooms'] = data['Bathrooms'].astype(int)\n",
    "    \n",
    "    # Floor\n",
    "    data.loc[:, 'Floor'] = data['Floor'].apply(lambda x: x.replace('Ground', '0') if type(x) == str else x)\n",
    "    data.loc[:, 'Floor'] = data['Floor'].apply(lambda x: x.replace('Upper Basement', '-1') if type(x) == str else x)\n",
    "    data.loc[:, 'Total Floors'] = data['Floor'].apply(lambda x: int(digits_regex.findall(x)[1]) if type(x) == str else x)\n",
    "    data.loc[:, 'Floor'] = data['Floor'].apply(lambda x: int(digits_regex.findall(x)[0]) if type(x) == str else x)\n",
    "    data.loc[:, 'Total Floors'] = data['Floor'].fillna(data['Total Floors'].mode()[0])\n",
    "    data.loc[:, 'Floor'] = data['Floor'].fillna(data['Floor'].mode()[0])\n",
    "    data.loc[:, 'Total Floors'] = data['Total Floors'].astype(int)\n",
    "    data.loc[:, 'Floor'] = data['Floor'].astype(int)\n",
    "\n",
    "    # Location_Score\n",
    "    data.dropna(subset=['Location_Score'], inplace=True)\n",
    "\n",
    "    # Status\n",
    "    data.loc[:, 'Status'] = data['Status'].fillna(data['Status'].mode()[0])\n",
    "    data.loc[:, 'Status'] = data['Status'].astype('category')\n",
    "\n",
    "    # Price Breakup\n",
    "    data.loc[:, 'Price Breakup'] = data['Price Breakup'].apply(get_price)\n",
    "    data.dropna(subset=['Price Breakup'], inplace=True)\n",
    "\n",
    "\n",
    "    return data"
   ]
  },
  {
   "cell_type": "code",
   "execution_count": 9,
   "metadata": {},
   "outputs": [],
   "source": [
    "modified_data = feature_engineering(filtered_data)\n",
    "modified_data.to_csv('../../Data/magicbricks_lr_modified.csv', index=False)"
   ]
  },
  {
   "cell_type": "code",
   "execution_count": 10,
   "metadata": {},
   "outputs": [],
   "source": [
    "def encode(data: pd.DataFrame) -> pd.DataFrame:\n",
    "    data = data.copy()\n",
    "    cat_cols = data.select_dtypes(include=['category']).columns.tolist()\n",
    "    for col in cat_cols:\n",
    "        data.loc[:, col] = data[col].cat.codes\n",
    "\n",
    "    return data"
   ]
  },
  {
   "cell_type": "code",
   "execution_count": 11,
   "metadata": {},
   "outputs": [],
   "source": [
    "encoded_data = encode(modified_data)\n",
    "encoded_data.to_csv('../../Data/magicbricks_lr_encoded.csv', index=False)"
   ]
  },
  {
   "cell_type": "markdown",
   "metadata": {},
   "source": [
    "# Training"
   ]
  },
  {
   "cell_type": "code",
   "execution_count": 12,
   "metadata": {},
   "outputs": [],
   "source": [
    "from sklearn.model_selection import train_test_split\n",
    "from sklearn.metrics import mean_squared_error"
   ]
  },
  {
   "cell_type": "code",
   "execution_count": 13,
   "metadata": {},
   "outputs": [],
   "source": [
    "X, y = encoded_data.drop(['Price Breakup'], axis=1), encoded_data['Price Breakup']\n",
    "X_train, X_test, y_train, y_test = train_test_split(X, y, test_size=0.2, random_state=42, shuffle=True)"
   ]
  },
  {
   "cell_type": "code",
   "execution_count": 14,
   "metadata": {},
   "outputs": [],
   "source": [
    "X_train, X_valid, y_train, y_valid = train_test_split(X_train, y_train, test_size=0.2, random_state=42, shuffle=True)"
   ]
  },
  {
   "cell_type": "markdown",
   "metadata": {},
   "source": [
    "### Scale"
   ]
  },
  {
   "cell_type": "code",
   "execution_count": 15,
   "metadata": {},
   "outputs": [],
   "source": [
    "from sklearn.preprocessing import StandardScaler\n",
    "\n",
    "sc = StandardScaler()\n",
    "sc.fit(X_train)\n",
    "X_train = sc.transform(X_train)\n",
    "X_valid = sc.transform(X_valid)\n",
    "X_test = sc.transform(X_test)"
   ]
  },
  {
   "cell_type": "markdown",
   "metadata": {},
   "source": [
    "### Linear Regression"
   ]
  },
  {
   "cell_type": "code",
   "execution_count": 70,
   "metadata": {},
   "outputs": [],
   "source": [
    "from sklearn.linear_model import LinearRegression"
   ]
  },
  {
   "cell_type": "code",
   "execution_count": 80,
   "metadata": {},
   "outputs": [
    {
     "data": {
      "text/plain": [
       "LinearRegression()"
      ]
     },
     "execution_count": 80,
     "metadata": {},
     "output_type": "execute_result"
    }
   ],
   "source": [
    "lr = LinearRegression()\n",
    "lr.fit(X_train, y_train)"
   ]
  },
  {
   "cell_type": "code",
   "execution_count": 81,
   "metadata": {},
   "outputs": [
    {
     "name": "stdout",
     "output_type": "stream",
     "text": [
      "MSE: 15423.61807221375\n",
      "Score: 0.4334718671764415\n"
     ]
    }
   ],
   "source": [
    "# Score\n",
    "print(f'MSE: {mean_squared_error(y_valid, lr.predict(X_valid))}')\n",
    "print(f'Score: {lr.score(X_valid, y_valid)}')"
   ]
  },
  {
   "cell_type": "markdown",
   "metadata": {},
   "source": [
    "### SVR"
   ]
  },
  {
   "cell_type": "code",
   "execution_count": 73,
   "metadata": {},
   "outputs": [],
   "source": [
    "from sklearn.svm import SVR"
   ]
  },
  {
   "cell_type": "code",
   "execution_count": 74,
   "metadata": {},
   "outputs": [
    {
     "data": {
      "text/plain": [
       "SVR()"
      ]
     },
     "execution_count": 74,
     "metadata": {},
     "output_type": "execute_result"
    }
   ],
   "source": [
    "lr = SVR()\n",
    "lr.fit(X_train, y_train)"
   ]
  },
  {
   "cell_type": "code",
   "execution_count": 75,
   "metadata": {},
   "outputs": [
    {
     "name": "stdout",
     "output_type": "stream",
     "text": [
      "MSE: 25325.94051756217\n",
      "Score: 0.06974759578213163\n"
     ]
    }
   ],
   "source": [
    "# Score\n",
    "print(f'MSE: {mean_squared_error(y_valid, lr.predict(X_valid))}')\n",
    "print(f'Score: {lr.score(X_valid, y_valid)}')"
   ]
  },
  {
   "cell_type": "markdown",
   "metadata": {},
   "source": [
    "### Random Forest"
   ]
  },
  {
   "cell_type": "code",
   "execution_count": 76,
   "metadata": {},
   "outputs": [],
   "source": [
    "from sklearn.ensemble import RandomForestRegressor"
   ]
  },
  {
   "cell_type": "code",
   "execution_count": 99,
   "metadata": {},
   "outputs": [
    {
     "data": {
      "text/plain": [
       "RandomForestRegressor(n_estimators=1000, n_jobs=-1, random_state=42)"
      ]
     },
     "execution_count": 99,
     "metadata": {},
     "output_type": "execute_result"
    }
   ],
   "source": [
    "lr = RandomForestRegressor(n_estimators=1000, random_state=42, n_jobs=-1)\n",
    "lr.fit(X_train, y_train)"
   ]
  },
  {
   "cell_type": "code",
   "execution_count": 100,
   "metadata": {},
   "outputs": [
    {
     "name": "stdout",
     "output_type": "stream",
     "text": [
      "MSE: 18832.458483615836\n",
      "Score: 0.30826103893087853\n"
     ]
    }
   ],
   "source": [
    "# Score\n",
    "print(f'MSE: {mean_squared_error(y_valid, lr.predict(X_valid))}')\n",
    "print(f'Score: {lr.score(X_valid, y_valid)}')"
   ]
  },
  {
   "cell_type": "markdown",
   "metadata": {},
   "source": [
    "### XGBoost"
   ]
  },
  {
   "cell_type": "code",
   "execution_count": 16,
   "metadata": {},
   "outputs": [],
   "source": [
    "from xgboost import XGBRegressor"
   ]
  },
  {
   "cell_type": "code",
   "execution_count": 17,
   "metadata": {},
   "outputs": [
    {
     "data": {
      "text/plain": [
       "XGBRegressor(base_score=0.5, booster='gbtree', callbacks=None,\n",
       "             colsample_bylevel=1, colsample_bynode=1, colsample_bytree=1,\n",
       "             early_stopping_rounds=None, enable_categorical=False,\n",
       "             eval_metric=None, gamma=0, gpu_id=-1, grow_policy='depthwise',\n",
       "             importance_type=None, interaction_constraints='',\n",
       "             learning_rate=0.300000012, max_bin=256, max_cat_to_onehot=4,\n",
       "             max_delta_step=0, max_depth=6, max_leaves=0, min_child_weight=1,\n",
       "             missing=nan, monotone_constraints='()', n_estimators=100, n_jobs=0,\n",
       "             num_parallel_tree=1, predictor='auto', random_state=0, reg_alpha=0,\n",
       "             reg_lambda=1, ...)"
      ]
     },
     "execution_count": 17,
     "metadata": {},
     "output_type": "execute_result"
    }
   ],
   "source": [
    "xgb = XGBRegressor()\n",
    "xgb.fit(X_train, y_train)"
   ]
  },
  {
   "cell_type": "code",
   "execution_count": 19,
   "metadata": {},
   "outputs": [
    {
     "name": "stdout",
     "output_type": "stream",
     "text": [
      "MSE: 15682.012488087605\n",
      "Score: 0.18150450191167788\n"
     ]
    }
   ],
   "source": [
    "# Score\n",
    "print(f'MSE: {mean_squared_error(y_valid, xgb.predict(X_valid))}')\n",
    "print(f'Score: {xgb.score(X_valid, y_valid)}')"
   ]
  },
  {
   "cell_type": "code",
   "execution_count": 20,
   "metadata": {},
   "outputs": [
    {
     "name": "stdout",
     "output_type": "stream",
     "text": [
      "170 -> 181.64764404296875\n",
      "75 -> 116.8585205078125\n",
      "225 -> 235.030517578125\n",
      "19 -> 55.46209716796875\n",
      "159 -> 137.41603088378906\n",
      "114 -> 31.31996726989746\n",
      "85 -> 95.91995239257812\n",
      "148 -> 155.08621215820312\n",
      "300 -> 456.1022033691406\n",
      "135 -> 61.7856559753418\n",
      "310 -> 257.13519287109375\n",
      "110 -> 74.36990356445312\n",
      "65 -> 30.043180465698242\n",
      "250 -> 308.58697509765625\n",
      "72 -> 54.115177154541016\n",
      "179 -> 202.3463897705078\n",
      "168 -> 113.70159912109375\n",
      "70 -> 91.01724243164062\n",
      "46 -> 186.65750122070312\n",
      "67 -> 50.51711654663086\n",
      "26 -> 141.43017578125\n",
      "183 -> 194.25160217285156\n",
      "92 -> 35.344181060791016\n",
      "65 -> 124.28300476074219\n",
      "95 -> 244.47096252441406\n",
      "499 -> 566.2516479492188\n",
      "120 -> 67.42782592773438\n",
      "60 -> 50.51711654663086\n",
      "38 -> 62.13019943237305\n",
      "185 -> 185.73292541503906\n",
      "175 -> 128.2425537109375\n",
      "100 -> 46.419376373291016\n",
      "60 -> 100.15924072265625\n",
      "85 -> 85.0031967163086\n",
      "225 -> 69.18952941894531\n",
      "40 -> 82.839111328125\n",
      "225 -> 247.8424835205078\n",
      "23 -> 105.9490737915039\n",
      "52 -> 50.51711654663086\n",
      "140 -> 126.19879150390625\n",
      "24 -> 94.6924819946289\n",
      "125 -> 61.90390396118164\n",
      "178 -> 193.88339233398438\n",
      "38 -> 55.46209716796875\n",
      "90 -> 39.335567474365234\n",
      "175 -> 53.17991256713867\n",
      "120 -> 137.41603088378906\n",
      "220 -> 258.64031982421875\n",
      "158 -> 122.45978546142578\n",
      "125 -> 207.65573120117188\n",
      "225 -> 247.8424835205078\n",
      "275 -> 131.6512908935547\n",
      "32 -> 116.47042083740234\n",
      "218 -> 71.17137145996094\n",
      "35 -> 17.707433700561523\n",
      "65 -> 247.70216369628906\n",
      "188 -> 123.92739868164062\n",
      "250 -> 78.91656494140625\n",
      "71 -> 66.8777084350586\n",
      "55 -> 36.17989730834961\n",
      "450 -> 528.5282592773438\n",
      "23 -> 179.04087829589844\n",
      "350 -> 199.72039794921875\n",
      "60 -> 94.83602142333984\n",
      "47 -> 71.17137145996094\n",
      "130 -> 85.46395874023438\n",
      "22 -> 27.653255462646484\n",
      "90 -> 95.41558074951172\n",
      "99 -> 109.06049346923828\n",
      "800 -> 202.3482666015625\n",
      "145 -> 136.56027221679688\n",
      "165 -> 98.47691345214844\n",
      "68 -> 199.93411254882812\n",
      "165 -> 76.2048110961914\n",
      "600 -> 398.721435546875\n",
      "67 -> 82.89900970458984\n",
      "240 -> 255.52593994140625\n",
      "275 -> 256.81988525390625\n",
      "65 -> 58.47982406616211\n",
      "135 -> 264.8810119628906\n",
      "101 -> 108.21768188476562\n",
      "195 -> 144.8388671875\n",
      "85 -> 103.3368911743164\n",
      "58 -> 69.58116912841797\n",
      "280 -> 426.6816711425781\n",
      "38 -> 50.51711654663086\n",
      "28 -> 71.2007064819336\n",
      "176 -> 153.74937438964844\n",
      "499 -> 578.3702392578125\n",
      "170 -> 92.75316619873047\n",
      "34 -> 69.11583709716797\n",
      "200 -> 161.5513153076172\n",
      "70 -> 108.21768188476562\n",
      "25 -> 74.36990356445312\n",
      "168 -> 287.3128356933594\n",
      "25 -> 55.46209716796875\n",
      "110 -> 94.90324401855469\n",
      "60 -> 75.13261413574219\n",
      "650 -> 65.95183563232422\n",
      "254 -> 278.1652526855469\n",
      "400 -> 349.847412109375\n",
      "55 -> 92.49803924560547\n",
      "520 -> 588.5057983398438\n",
      "170 -> 171.8941192626953\n",
      "100 -> 61.7856559753418\n",
      "580 -> 563.3637084960938\n",
      "215 -> 244.5169677734375\n",
      "44 -> 73.1383056640625\n",
      "151 -> 285.1778259277344\n",
      "155 -> 54.576255798339844\n",
      "150 -> 339.9110412597656\n",
      "31 -> 92.62625122070312\n",
      "23 -> 55.46209716796875\n",
      "65 -> 67.42782592773438\n",
      "90 -> 174.30116271972656\n",
      "170 -> 30.748046875\n",
      "150 -> 161.2948455810547\n",
      "96 -> 151.43299865722656\n",
      "235 -> 292.05963134765625\n",
      "58 -> 200.87477111816406\n",
      "95 -> 89.13607788085938\n",
      "375 -> 610.1076049804688\n",
      "250 -> 80.6497802734375\n",
      "33 -> 446.8643493652344\n",
      "210 -> 255.03268432617188\n",
      "295 -> 270.5292663574219\n",
      "145 -> 246.5087890625\n",
      "125 -> 44.069854736328125\n",
      "107 -> 51.21150207519531\n",
      "29 -> 49.8072395324707\n",
      "22 -> 47.28111267089844\n",
      "98 -> 48.56633377075195\n",
      "556 -> 383.0564270019531\n",
      "265 -> 501.6031799316406\n",
      "229 -> 75.60426330566406\n",
      "65 -> 75.13261413574219\n",
      "112 -> 83.40909576416016\n",
      "235 -> 75.60426330566406\n",
      "80 -> 57.085350036621094\n",
      "32 -> 85.79570007324219\n",
      "37 -> 53.288211822509766\n",
      "72 -> 30.043180465698242\n",
      "23 -> 88.5413589477539\n",
      "260 -> 741.9475708007812\n",
      "54 -> 48.17280197143555\n",
      "275 -> 144.04103088378906\n",
      "400 -> 382.9327087402344\n",
      "315 -> 195.58526611328125\n",
      "440 -> 611.1741943359375\n",
      "210 -> 550.1490478515625\n",
      "229 -> 197.41531372070312\n",
      "182 -> 297.8995666503906\n",
      "360 -> 225.08096313476562\n",
      "160 -> 102.05217742919922\n",
      "160 -> 120.73895263671875\n",
      "325 -> 318.4211730957031\n",
      "160 -> 328.7915344238281\n",
      "190 -> 148.7557830810547\n",
      "48 -> 44.069854736328125\n",
      "220 -> 81.22813415527344\n",
      "60 -> 71.30998992919922\n",
      "150 -> 48.56633377075195\n",
      "350 -> 383.98388671875\n",
      "42 -> 30.485734939575195\n",
      "100 -> 84.22628021240234\n",
      "119 -> 51.21150207519531\n",
      "100 -> 494.09783935546875\n",
      "110 -> 34.375831604003906\n",
      "700 -> 494.09783935546875\n",
      "85 -> 101.49446105957031\n",
      "70 -> 323.873046875\n",
      "120 -> 55.46209716796875\n",
      "145 -> 63.41380310058594\n",
      "146 -> 244.47096252441406\n",
      "200 -> 100.87220764160156\n",
      "45 -> 78.96630859375\n",
      "28 -> 157.47396850585938\n",
      "40 -> 91.41031646728516\n",
      "160 -> 259.9759826660156\n",
      "102 -> 494.09783935546875\n",
      "70 -> 36.01936721801758\n",
      "85 -> 69.18952941894531\n",
      "34 -> 446.8643493652344\n",
      "31 -> 70.676513671875\n",
      "108 -> 134.60678100585938\n",
      "475 -> 416.83465576171875\n",
      "70 -> 136.56027221679688\n",
      "167 -> 149.55337524414062\n",
      "27 -> 58.070457458496094\n"
     ]
    }
   ],
   "source": [
    "for y_true, y_predict in zip(y_valid, xgb.predict(X_valid)):\n",
    "    print(f'{y_true} -> {y_predict}')"
   ]
  },
  {
   "cell_type": "code",
   "execution_count": 92,
   "metadata": {},
   "outputs": [
    {
     "data": {
      "text/plain": [
       "['../../Code/Modelling/Models/lr.model']"
      ]
     },
     "execution_count": 92,
     "metadata": {},
     "output_type": "execute_result"
    }
   ],
   "source": [
    "# Save Model\n",
    "joblib.dump(lr, '../../Code/Modelling/Models/lr.model')"
   ]
  },
  {
   "cell_type": "code",
   "execution_count": 21,
   "metadata": {},
   "outputs": [],
   "source": [
    "model = xgb"
   ]
  },
  {
   "cell_type": "markdown",
   "metadata": {},
   "source": [
    "## Feature Importance"
   ]
  },
  {
   "cell_type": "code",
   "execution_count": 25,
   "metadata": {},
   "outputs": [
    {
     "data": {
      "image/png": "[encoded data removed]",
      "text/plain": [
       "<Figure size 720x720 with 1 Axes>"
      ]
     },
     "metadata": {},
     "output_type": "display_data"
    }
   ],
   "source": [
    "# Graph feature importance\n",
    "import seaborn as sns\n",
    "import matplotlib.pyplot as plt\n",
    "\n",
    "sns.set(style=\"darkgrid\")\n",
    "imp = pd.DataFrame(sorted(zip(X.columns, model.feature_importances_)), columns=['Feature', 'Importance'])\n",
    "imp.plot.barh(y='Importance', x='Feature', figsize=(10, 10))\n",
    "plt.show()"
   ]
  },
  {
   "cell_type": "code",
   "execution_count": null,
   "metadata": {},
   "outputs": [],
   "source": []
  }
 ],
 "metadata": {
  "interpreter": {
   "hash": "ecbb0100d1afdd2500b7e44462920f8a5c3170e79139b35521f055287792d739"
  },
  "kernelspec": {
   "display_name": "Python 3.9.2 ('sw')",
   "language": "python",
   "name": "python3"
  },
  "language_info": {
   "codemirror_mode": {
    "name": "ipython",
    "version": 3
   },
   "file_extension": ".py",
   "mimetype": "text/x-python",
   "name": "python",
   "nbconvert_exporter": "python",
   "pygments_lexer": "ipython3",
   "version": "3.9.2"
  },
  "orig_nbformat": 4
 },
 "nbformat": 4,
 "nbformat_minor": 2
}
