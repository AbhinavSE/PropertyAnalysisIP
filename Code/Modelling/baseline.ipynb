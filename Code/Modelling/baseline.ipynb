{
 "cells": [
  {
   "cell_type": "markdown",
   "metadata": {},
   "source": [
    "# Imports"
   ]
  },
  {
   "cell_type": "code",
   "execution_count": 2,
   "metadata": {},
   "outputs": [],
   "source": [
    "import pandas as pd\n",
    "import re\n",
    "import joblib"
   ]
  },
  {
   "cell_type": "code",
   "execution_count": 3,
   "metadata": {},
   "outputs": [],
   "source": [
    "data = pd.read_csv('../../Data/magicbricks_lr.csv')"
   ]
  },
  {
   "cell_type": "markdown",
   "metadata": {},
   "source": [
    "# Preprocessing"
   ]
  },
  {
   "cell_type": "markdown",
   "metadata": {},
   "source": [
    "## Filtering Cols"
   ]
  },
  {
   "cell_type": "code",
   "execution_count": 4,
   "metadata": {},
   "outputs": [],
   "source": [
    "data = data[data['Location_Score'] > 0]"
   ]
  },
  {
   "cell_type": "code",
   "execution_count": 5,
   "metadata": {},
   "outputs": [],
   "source": [
    "# Columns to drop\n",
    "\n",
    "def get_column_status():\n",
    "    \"\"\"Make a df of all columns and their num nan values, dtype, num unique values\"\"\"\n",
    "    cols = data.columns.tolist()\n",
    "    col_status = pd.DataFrame(columns=['column', 'num_nan', 'dtype', 'num_unique'])\n",
    "    for col in cols:\n",
    "        col_status.loc[len(col_status)] = [col, data[col].isna().sum(), data[col].dtype, data[col].nunique()]\n",
    "    return col_status"
   ]
  },
  {
   "cell_type": "code",
   "execution_count": 6,
   "metadata": {},
   "outputs": [
    {
     "data": {
      "text/html": [
       "<div>\n",
       "<style scoped>\n",
       "    .dataframe tbody tr th:only-of-type {\n",
       "        vertical-align: middle;\n",
       "    }\n",
       "\n",
       "    .dataframe tbody tr th {\n",
       "        vertical-align: top;\n",
       "    }\n",
       "\n",
       "    .dataframe thead th {\n",
       "        text-align: right;\n",
       "    }\n",
       "</style>\n",
       "<table border=\"1\" class=\"dataframe\">\n",
       "  <thead>\n",
       "    <tr style=\"text-align: right;\">\n",
       "      <th></th>\n",
       "      <th>column</th>\n",
       "      <th>num_nan</th>\n",
       "      <th>dtype</th>\n",
       "      <th>num_unique</th>\n",
       "    </tr>\n",
       "  </thead>\n",
       "  <tbody>\n",
       "    <tr>\n",
       "      <th>13</th>\n",
       "      <td>Unnamed: 13</td>\n",
       "      <td>1179</td>\n",
       "      <td>float64</td>\n",
       "      <td>0</td>\n",
       "    </tr>\n",
       "    <tr>\n",
       "      <th>49</th>\n",
       "      <td>Unnamed: 49</td>\n",
       "      <td>1179</td>\n",
       "      <td>float64</td>\n",
       "      <td>0</td>\n",
       "    </tr>\n",
       "    <tr>\n",
       "      <th>45</th>\n",
       "      <td>Unnamed: 45</td>\n",
       "      <td>1179</td>\n",
       "      <td>float64</td>\n",
       "      <td>0</td>\n",
       "    </tr>\n",
       "    <tr>\n",
       "      <th>47</th>\n",
       "      <td>Unnamed: 47</td>\n",
       "      <td>1179</td>\n",
       "      <td>float64</td>\n",
       "      <td>0</td>\n",
       "    </tr>\n",
       "    <tr>\n",
       "      <th>48</th>\n",
       "      <td>Unnamed: 48</td>\n",
       "      <td>1179</td>\n",
       "      <td>float64</td>\n",
       "      <td>0</td>\n",
       "    </tr>\n",
       "    <tr>\n",
       "      <th>46</th>\n",
       "      <td>Unnamed: 46</td>\n",
       "      <td>1179</td>\n",
       "      <td>float64</td>\n",
       "      <td>0</td>\n",
       "    </tr>\n",
       "    <tr>\n",
       "      <th>35</th>\n",
       "      <td>Car Parking</td>\n",
       "      <td>1177</td>\n",
       "      <td>object</td>\n",
       "      <td>1</td>\n",
       "    </tr>\n",
       "    <tr>\n",
       "      <th>34</th>\n",
       "      <td>Possession by</td>\n",
       "      <td>1173</td>\n",
       "      <td>object</td>\n",
       "      <td>4</td>\n",
       "    </tr>\n",
       "    <tr>\n",
       "      <th>26</th>\n",
       "      <td>Floors allowed for construction</td>\n",
       "      <td>1146</td>\n",
       "      <td>float64</td>\n",
       "      <td>6</td>\n",
       "    </tr>\n",
       "    <tr>\n",
       "      <th>33</th>\n",
       "      <td>RERA ID</td>\n",
       "      <td>1131</td>\n",
       "      <td>object</td>\n",
       "      <td>34</td>\n",
       "    </tr>\n",
       "    <tr>\n",
       "      <th>42</th>\n",
       "      <td>Bathroom</td>\n",
       "      <td>1116</td>\n",
       "      <td>float64</td>\n",
       "      <td>1</td>\n",
       "    </tr>\n",
       "    <tr>\n",
       "      <th>29</th>\n",
       "      <td>Loan Offered by</td>\n",
       "      <td>1113</td>\n",
       "      <td>object</td>\n",
       "      <td>16</td>\n",
       "    </tr>\n",
       "    <tr>\n",
       "      <th>44</th>\n",
       "      <td>Lifts</td>\n",
       "      <td>1101</td>\n",
       "      <td>object</td>\n",
       "      <td>4</td>\n",
       "    </tr>\n",
       "    <tr>\n",
       "      <th>43</th>\n",
       "      <td>Study Room</td>\n",
       "      <td>1051</td>\n",
       "      <td>float64</td>\n",
       "      <td>1</td>\n",
       "    </tr>\n",
       "    <tr>\n",
       "      <th>40</th>\n",
       "      <td>Servant Room</td>\n",
       "      <td>986</td>\n",
       "      <td>float64</td>\n",
       "      <td>1</td>\n",
       "    </tr>\n",
       "    <tr>\n",
       "      <th>31</th>\n",
       "      <td>Super area</td>\n",
       "      <td>982</td>\n",
       "      <td>object</td>\n",
       "      <td>106</td>\n",
       "    </tr>\n",
       "    <tr>\n",
       "      <th>36</th>\n",
       "      <td>Puja Room</td>\n",
       "      <td>965</td>\n",
       "      <td>float64</td>\n",
       "      <td>1</td>\n",
       "    </tr>\n",
       "    <tr>\n",
       "      <th>37</th>\n",
       "      <td>Plot area</td>\n",
       "      <td>948</td>\n",
       "      <td>object</td>\n",
       "      <td>98</td>\n",
       "    </tr>\n",
       "    <tr>\n",
       "      <th>28</th>\n",
       "      <td>Brokerage Response</td>\n",
       "      <td>930</td>\n",
       "      <td>object</td>\n",
       "      <td>1</td>\n",
       "    </tr>\n",
       "    <tr>\n",
       "      <th>38</th>\n",
       "      <td>Store Room</td>\n",
       "      <td>899</td>\n",
       "      <td>float64</td>\n",
       "      <td>1</td>\n",
       "    </tr>\n",
       "    <tr>\n",
       "      <th>39</th>\n",
       "      <td>Units Available</td>\n",
       "      <td>881</td>\n",
       "      <td>float64</td>\n",
       "      <td>17</td>\n",
       "    </tr>\n",
       "    <tr>\n",
       "      <th>30</th>\n",
       "      <td>Amenities</td>\n",
       "      <td>843</td>\n",
       "      <td>object</td>\n",
       "      <td>167</td>\n",
       "    </tr>\n",
       "    <tr>\n",
       "      <th>6</th>\n",
       "      <td>Developer</td>\n",
       "      <td>827</td>\n",
       "      <td>object</td>\n",
       "      <td>57</td>\n",
       "    </tr>\n",
       "    <tr>\n",
       "      <th>7</th>\n",
       "      <td>Project</td>\n",
       "      <td>781</td>\n",
       "      <td>object</td>\n",
       "      <td>236</td>\n",
       "    </tr>\n",
       "    <tr>\n",
       "      <th>41</th>\n",
       "      <td>Balcony</td>\n",
       "      <td>698</td>\n",
       "      <td>float64</td>\n",
       "      <td>1</td>\n",
       "    </tr>\n",
       "    <tr>\n",
       "      <th>3</th>\n",
       "      <td>Balconies</td>\n",
       "      <td>586</td>\n",
       "      <td>float64</td>\n",
       "      <td>6</td>\n",
       "    </tr>\n",
       "    <tr>\n",
       "      <th>22</th>\n",
       "      <td>Lift</td>\n",
       "      <td>574</td>\n",
       "      <td>object</td>\n",
       "      <td>8</td>\n",
       "    </tr>\n",
       "    <tr>\n",
       "      <th>25</th>\n",
       "      <td>Authority Approval</td>\n",
       "      <td>465</td>\n",
       "      <td>object</td>\n",
       "      <td>8</td>\n",
       "    </tr>\n",
       "    <tr>\n",
       "      <th>21</th>\n",
       "      <td>Status of Electricity</td>\n",
       "      <td>410</td>\n",
       "      <td>object</td>\n",
       "      <td>2</td>\n",
       "    </tr>\n",
       "    <tr>\n",
       "      <th>20</th>\n",
       "      <td>Water Availability</td>\n",
       "      <td>407</td>\n",
       "      <td>object</td>\n",
       "      <td>5</td>\n",
       "    </tr>\n",
       "    <tr>\n",
       "      <th>32</th>\n",
       "      <td>Furnished status</td>\n",
       "      <td>342</td>\n",
       "      <td>object</td>\n",
       "      <td>3</td>\n",
       "    </tr>\n",
       "    <tr>\n",
       "      <th>5</th>\n",
       "      <td>Loading</td>\n",
       "      <td>328</td>\n",
       "      <td>object</td>\n",
       "      <td>75</td>\n",
       "    </tr>\n",
       "    <tr>\n",
       "      <th>19</th>\n",
       "      <td>Flooring</td>\n",
       "      <td>283</td>\n",
       "      <td>object</td>\n",
       "      <td>128</td>\n",
       "    </tr>\n",
       "    <tr>\n",
       "      <th>16</th>\n",
       "      <td>Landmarks</td>\n",
       "      <td>242</td>\n",
       "      <td>object</td>\n",
       "      <td>843</td>\n",
       "    </tr>\n",
       "    <tr>\n",
       "      <th>4</th>\n",
       "      <td>Carpet area</td>\n",
       "      <td>201</td>\n",
       "      <td>object</td>\n",
       "      <td>217</td>\n",
       "    </tr>\n",
       "    <tr>\n",
       "      <th>18</th>\n",
       "      <td>Overlooking</td>\n",
       "      <td>194</td>\n",
       "      <td>object</td>\n",
       "      <td>12</td>\n",
       "    </tr>\n",
       "    <tr>\n",
       "      <th>17</th>\n",
       "      <td>Facing</td>\n",
       "      <td>155</td>\n",
       "      <td>object</td>\n",
       "      <td>16</td>\n",
       "    </tr>\n",
       "    <tr>\n",
       "      <th>14</th>\n",
       "      <td>Facilities</td>\n",
       "      <td>125</td>\n",
       "      <td>object</td>\n",
       "      <td>863</td>\n",
       "    </tr>\n",
       "    <tr>\n",
       "      <th>27</th>\n",
       "      <td>Type of Ownership</td>\n",
       "      <td>102</td>\n",
       "      <td>object</td>\n",
       "      <td>4</td>\n",
       "    </tr>\n",
       "    <tr>\n",
       "      <th>23</th>\n",
       "      <td>Age of Construction</td>\n",
       "      <td>84</td>\n",
       "      <td>object</td>\n",
       "      <td>7</td>\n",
       "    </tr>\n",
       "    <tr>\n",
       "      <th>2</th>\n",
       "      <td>Bathrooms</td>\n",
       "      <td>64</td>\n",
       "      <td>float64</td>\n",
       "      <td>4</td>\n",
       "    </tr>\n",
       "    <tr>\n",
       "      <th>8</th>\n",
       "      <td>Status</td>\n",
       "      <td>59</td>\n",
       "      <td>object</td>\n",
       "      <td>2</td>\n",
       "    </tr>\n",
       "    <tr>\n",
       "      <th>10</th>\n",
       "      <td>Floor</td>\n",
       "      <td>33</td>\n",
       "      <td>object</td>\n",
       "      <td>115</td>\n",
       "    </tr>\n",
       "    <tr>\n",
       "      <th>11</th>\n",
       "      <td>Car parking</td>\n",
       "      <td>2</td>\n",
       "      <td>object</td>\n",
       "      <td>21</td>\n",
       "    </tr>\n",
       "    <tr>\n",
       "      <th>24</th>\n",
       "      <td>Furnishing</td>\n",
       "      <td>1</td>\n",
       "      <td>object</td>\n",
       "      <td>3</td>\n",
       "    </tr>\n",
       "    <tr>\n",
       "      <th>0</th>\n",
       "      <td>url</td>\n",
       "      <td>0</td>\n",
       "      <td>object</td>\n",
       "      <td>1179</td>\n",
       "    </tr>\n",
       "    <tr>\n",
       "      <th>1</th>\n",
       "      <td>Bedrooms</td>\n",
       "      <td>0</td>\n",
       "      <td>object</td>\n",
       "      <td>6</td>\n",
       "    </tr>\n",
       "    <tr>\n",
       "      <th>15</th>\n",
       "      <td>Address</td>\n",
       "      <td>0</td>\n",
       "      <td>object</td>\n",
       "      <td>878</td>\n",
       "    </tr>\n",
       "    <tr>\n",
       "      <th>12</th>\n",
       "      <td>Price Breakup</td>\n",
       "      <td>0</td>\n",
       "      <td>object</td>\n",
       "      <td>854</td>\n",
       "    </tr>\n",
       "    <tr>\n",
       "      <th>9</th>\n",
       "      <td>Transaction type</td>\n",
       "      <td>0</td>\n",
       "      <td>object</td>\n",
       "      <td>3</td>\n",
       "    </tr>\n",
       "    <tr>\n",
       "      <th>50</th>\n",
       "      <td>Location_Score</td>\n",
       "      <td>0</td>\n",
       "      <td>float64</td>\n",
       "      <td>10</td>\n",
       "    </tr>\n",
       "  </tbody>\n",
       "</table>\n",
       "</div>"
      ],
      "text/plain": [
       "                             column num_nan    dtype num_unique\n",
       "13                      Unnamed: 13    1179  float64          0\n",
       "49                      Unnamed: 49    1179  float64          0\n",
       "45                      Unnamed: 45    1179  float64          0\n",
       "47                      Unnamed: 47    1179  float64          0\n",
       "48                      Unnamed: 48    1179  float64          0\n",
       "46                      Unnamed: 46    1179  float64          0\n",
       "35                      Car Parking    1177   object          1\n",
       "34                    Possession by    1173   object          4\n",
       "26  Floors allowed for construction    1146  float64          6\n",
       "33                          RERA ID    1131   object         34\n",
       "42                         Bathroom    1116  float64          1\n",
       "29                  Loan Offered by    1113   object         16\n",
       "44                            Lifts    1101   object          4\n",
       "43                       Study Room    1051  float64          1\n",
       "40                     Servant Room     986  float64          1\n",
       "31                       Super area     982   object        106\n",
       "36                        Puja Room     965  float64          1\n",
       "37                        Plot area     948   object         98\n",
       "28               Brokerage Response     930   object          1\n",
       "38                       Store Room     899  float64          1\n",
       "39                  Units Available     881  float64         17\n",
       "30                        Amenities     843   object        167\n",
       "6                         Developer     827   object         57\n",
       "7                           Project     781   object        236\n",
       "41                          Balcony     698  float64          1\n",
       "3                         Balconies     586  float64          6\n",
       "22                             Lift     574   object          8\n",
       "25               Authority Approval     465   object          8\n",
       "21            Status of Electricity     410   object          2\n",
       "20               Water Availability     407   object          5\n",
       "32                 Furnished status     342   object          3\n",
       "5                           Loading     328   object         75\n",
       "19                         Flooring     283   object        128\n",
       "16                        Landmarks     242   object        843\n",
       "4                       Carpet area     201   object        217\n",
       "18                      Overlooking     194   object         12\n",
       "17                           Facing     155   object         16\n",
       "14                       Facilities     125   object        863\n",
       "27                Type of Ownership     102   object          4\n",
       "23              Age of Construction      84   object          7\n",
       "2                         Bathrooms      64  float64          4\n",
       "8                            Status      59   object          2\n",
       "10                            Floor      33   object        115\n",
       "11                      Car parking       2   object         21\n",
       "24                       Furnishing       1   object          3\n",
       "0                               url       0   object       1179\n",
       "1                          Bedrooms       0   object          6\n",
       "15                          Address       0   object        878\n",
       "12                    Price Breakup       0   object        854\n",
       "9                  Transaction type       0   object          3\n",
       "50                   Location_Score       0  float64         10"
      ]
     },
     "execution_count": 6,
     "metadata": {},
     "output_type": "execute_result"
    }
   ],
   "source": [
    "status = get_column_status()\n",
    "status.sort_values(by='num_nan', ascending=False)"
   ]
  },
  {
   "cell_type": "code",
   "execution_count": 7,
   "metadata": {},
   "outputs": [],
   "source": [
    "# For rows where Car parking has missing values check if Car Parking has a value and if so, replace the missing value with the value\n",
    "missing_indices = data[data['Car parking'].isna()].index\n",
    "for index in missing_indices:\n",
    "    if not pd.isna(data.loc[index, 'Car Parking']):\n",
    "        data.loc[index, 'Car parking'] = data.loc[index, 'Car Parking']"
   ]
  },
  {
   "cell_type": "code",
   "execution_count": 8,
   "metadata": {},
   "outputs": [],
   "source": [
    "cols_to_keep = ['Bedrooms', 'Car parking', 'Furnishing', 'Bathrooms', 'Floor', 'Status', 'Price Breakup', 'Location_Score']\n",
    "filtered_data = data[cols_to_keep]"
   ]
  },
  {
   "cell_type": "markdown",
   "metadata": {},
   "source": [
    "## Feature Engineering"
   ]
  },
  {
   "cell_type": "code",
   "execution_count": 9,
   "metadata": {},
   "outputs": [],
   "source": [
    "def feature_engineering(data: pd.DataFrame) -> pd.DataFrame:\n",
    "\n",
    "    def get_price(price: str):\n",
    "        \"\"\"\n",
    "        '₹ 1.72 Cr ₹ 12,03,923 Stamp Duty, Registration Charges ₹ 2,800 Monthly\\nSee Other Charges' -> ₹ 1.72 Cr\n",
    "        '₹ 1.58 Cr ₹ 11,05,986 Stamp Duty, Registration Charges ₹ 2,500 Monthly\\nSee Other Charges' -> ₹ 1.58 Cr\n",
    "        '₹ 1.27 Cr ₹ 8,88,930 Stamp Duty, Registration Charges ₹ 2,850 Monthly\\nSee Other Charges' -> ₹ 1.27 Cr\n",
    "        \"\"\"\n",
    "        if type(price) == str:\n",
    "            num = re.search(r'[.\\d]+', price).group()\n",
    "            suffix = re.search(r'Lac|Cr', price).group()\n",
    "            if suffix == 'Lac':\n",
    "                num = float(num)\n",
    "            elif suffix == 'Cr':\n",
    "                num = float(num) * 100\n",
    "            return int(num)\n",
    "\n",
    "\n",
    "    data = data.copy()\n",
    "    # Bedrooms\n",
    "    digits_regex = re.compile(r'[\\-\\d]+')\n",
    "    data.loc[:, 'Bedrooms'] = data['Bedrooms'].apply(lambda x: int(digits_regex.search(x).group()) if type(x) == str else x)\n",
    "    data.loc[:, 'Bedrooms'] = data['Bedrooms'].fillna(data['Bedrooms'].mode()[0])\n",
    "    data.loc[:, 'Bedrooms'] = data['Bedrooms'].astype(int)\n",
    "\n",
    "    # Car parking\n",
    "    # Find all numbers and add\n",
    "    data.loc[:, 'Car parking'] = data['Car parking'].apply(lambda x: int(sum(map(int, digits_regex.findall(x)))) if type(x) == str and digits_regex.search(x) else x)\n",
    "    data.loc[:, 'Car parking'] = data['Car parking'].apply(lambda x: x.replace('None', '0') if 'None' in str(x) else x)\n",
    "    data.loc[:, 'Car parking'] = data['Car parking'].fillna(data['Car parking'].mode()[0])\n",
    "    data.loc[:, 'Car parking'] = data['Car parking'].astype(int)\n",
    "\n",
    "    # Furnishing\n",
    "    data.loc[:, 'Furnishing'] = data['Furnishing'].fillna(data['Furnishing'].mode()[0])\n",
    "    data.loc[:, 'Furnishing'] = data['Furnishing'].astype('category')\n",
    "\n",
    "    # Bathrooms\n",
    "    data.loc[:, 'Bathrooms'] = data['Bathrooms'].fillna(data['Bathrooms'].mode()[0])\n",
    "    data.loc[:, 'Bathrooms'] = data['Bathrooms'].astype(int)\n",
    "    \n",
    "    # Floor\n",
    "    data.loc[:, 'Floor'] = data['Floor'].apply(lambda x: x.replace('Ground', '0') if type(x) == str else x)\n",
    "    data.loc[:, 'Floor'] = data['Floor'].apply(lambda x: x.replace('Upper Basement', '-1') if type(x) == str else x)\n",
    "    data.loc[:, 'Total Floors'] = data['Floor'].apply(lambda x: int(digits_regex.findall(x)[1]) if type(x) == str else x)\n",
    "    data.loc[:, 'Floor'] = data['Floor'].apply(lambda x: int(digits_regex.findall(x)[0]) if type(x) == str else x)\n",
    "    data.loc[:, 'Total Floors'] = data['Floor'].fillna(data['Total Floors'].mode()[0])\n",
    "    data.loc[:, 'Floor'] = data['Floor'].fillna(data['Floor'].mode()[0])\n",
    "    data.loc[:, 'Total Floors'] = data['Total Floors'].astype(int)\n",
    "    data.loc[:, 'Floor'] = data['Floor'].astype(int)\n",
    "\n",
    "    # Location_Score\n",
    "    data.dropna(subset=['Location_Score'], inplace=True)\n",
    "\n",
    "    # Status\n",
    "    data.loc[:, 'Status'] = data['Status'].fillna(data['Status'].mode()[0])\n",
    "    data.loc[:, 'Status'] = data['Status'].astype('category')\n",
    "\n",
    "    # Price Breakup\n",
    "    data.loc[:, 'Price Breakup'] = data['Price Breakup'].apply(get_price)\n",
    "    data.dropna(subset=['Price Breakup'], inplace=True)\n",
    "\n",
    "\n",
    "    return data"
   ]
  },
  {
   "cell_type": "code",
   "execution_count": 10,
   "metadata": {},
   "outputs": [],
   "source": [
    "modified_data = feature_engineering(filtered_data)\n",
    "modified_data.to_csv('../../Data/magicbricks_lr_modified.csv', index=False)"
   ]
  },
  {
   "cell_type": "code",
   "execution_count": 11,
   "metadata": {},
   "outputs": [],
   "source": [
    "def encode(data: pd.DataFrame) -> pd.DataFrame:\n",
    "    data = data.copy()\n",
    "    cat_cols = data.select_dtypes(include=['category']).columns.tolist()\n",
    "    for col in cat_cols:\n",
    "        data.loc[:, col] = data[col].cat.codes\n",
    "\n",
    "    return data"
   ]
  },
  {
   "cell_type": "code",
   "execution_count": 12,
   "metadata": {},
   "outputs": [],
   "source": [
    "encoded_data = encode(modified_data)\n",
    "encoded_data.to_csv('../../Data/magicbricks_lr_encoded.csv', index=False)"
   ]
  },
  {
   "cell_type": "markdown",
   "metadata": {},
   "source": [
    "## Outlier Removal"
   ]
  },
  {
   "cell_type": "code",
   "execution_count": 13,
   "metadata": {},
   "outputs": [],
   "source": [
    "# Remove Price Breakup outliers based on IQR\n",
    "def remove_outliers(data: pd.DataFrame) -> pd.DataFrame:\n",
    "    data = data.copy()\n",
    "    data.drop(data[data['Price Breakup'] > data['Price Breakup'].quantile(0.95)].index, inplace=True)\n",
    "    data.drop(data[data['Price Breakup'] < data['Price Breakup'].quantile(0.05)].index, inplace=True)\n",
    "    return data\n",
    "\n",
    "inlier_data = remove_outliers(encoded_data)"
   ]
  },
  {
   "cell_type": "code",
   "execution_count": 14,
   "metadata": {},
   "outputs": [
    {
     "data": {
      "text/plain": [
       "(1072, 9)"
      ]
     },
     "execution_count": 14,
     "metadata": {},
     "output_type": "execute_result"
    }
   ],
   "source": [
    "data = inlier_data\n",
    "\n",
    "data.shape"
   ]
  },
  {
   "cell_type": "markdown",
   "metadata": {},
   "source": [
    "# Training"
   ]
  },
  {
   "cell_type": "code",
   "execution_count": 15,
   "metadata": {},
   "outputs": [],
   "source": [
    "from sklearn.model_selection import train_test_split\n",
    "from sklearn.metrics import mean_squared_error"
   ]
  },
  {
   "cell_type": "code",
   "execution_count": 16,
   "metadata": {},
   "outputs": [],
   "source": [
    "X, y = data.drop(['Price Breakup'], axis=1), data['Price Breakup']\n",
    "X_train, X_test, y_train, y_test = train_test_split(X, y, test_size=0.2, random_state=42, shuffle=True)"
   ]
  },
  {
   "cell_type": "code",
   "execution_count": 17,
   "metadata": {},
   "outputs": [],
   "source": [
    "X_train, X_valid, y_train, y_valid = train_test_split(X_train, y_train, test_size=0.2, random_state=42, shuffle=True)"
   ]
  },
  {
   "cell_type": "markdown",
   "metadata": {},
   "source": [
    "### Scale"
   ]
  },
  {
   "cell_type": "code",
   "execution_count": 18,
   "metadata": {},
   "outputs": [],
   "source": [
    "from sklearn.preprocessing import StandardScaler\n",
    "\n",
    "sc = StandardScaler()\n",
    "sc.fit(X_train)\n",
    "X_train = sc.transform(X_train)\n",
    "X_valid = sc.transform(X_valid)\n",
    "X_test = sc.transform(X_test)"
   ]
  },
  {
   "cell_type": "markdown",
   "metadata": {},
   "source": [
    "### Linear Regression"
   ]
  },
  {
   "cell_type": "code",
   "execution_count": 19,
   "metadata": {},
   "outputs": [],
   "source": [
    "from sklearn.linear_model import LinearRegression"
   ]
  },
  {
   "cell_type": "code",
   "execution_count": 20,
   "metadata": {},
   "outputs": [
    {
     "data": {
      "text/plain": [
       "LinearRegression()"
      ]
     },
     "execution_count": 20,
     "metadata": {},
     "output_type": "execute_result"
    }
   ],
   "source": [
    "lr = LinearRegression()\n",
    "lr.fit(X_train, y_train)"
   ]
  },
  {
   "cell_type": "code",
   "execution_count": 21,
   "metadata": {},
   "outputs": [
    {
     "name": "stdout",
     "output_type": "stream",
     "text": [
      "MSE: 7702.391710168633\n",
      "Score: 0.26469657979780525\n"
     ]
    }
   ],
   "source": [
    "# Score\n",
    "print(f'MSE: {mean_squared_error(y_valid, lr.predict(X_valid))}')\n",
    "print(f'Score: {lr.score(X_valid, y_valid)}')"
   ]
  },
  {
   "cell_type": "markdown",
   "metadata": {},
   "source": [
    "### SVR"
   ]
  },
  {
   "cell_type": "code",
   "execution_count": 21,
   "metadata": {},
   "outputs": [],
   "source": [
    "from sklearn.svm import SVR"
   ]
  },
  {
   "cell_type": "code",
   "execution_count": 39,
   "metadata": {},
   "outputs": [
    {
     "data": {
      "text/plain": [
       "SVR()"
      ]
     },
     "execution_count": 39,
     "metadata": {},
     "output_type": "execute_result"
    }
   ],
   "source": [
    "sv = SVR()\n",
    "sv.fit(X_train, y_train)"
   ]
  },
  {
   "cell_type": "code",
   "execution_count": 40,
   "metadata": {},
   "outputs": [
    {
     "name": "stdout",
     "output_type": "stream",
     "text": [
      "MSE: 8597.780949393913\n",
      "Score: 0.17921887432803563\n"
     ]
    }
   ],
   "source": [
    "# Score\n",
    "print(f'MSE: {mean_squared_error(y_valid, sv.predict(X_valid))}')\n",
    "print(f'Score: {sv.score(X_valid, y_valid)}')"
   ]
  },
  {
   "cell_type": "markdown",
   "metadata": {},
   "source": [
    "### Random Forest"
   ]
  },
  {
   "cell_type": "code",
   "execution_count": 24,
   "metadata": {},
   "outputs": [],
   "source": [
    "from sklearn.ensemble import RandomForestRegressor"
   ]
  },
  {
   "cell_type": "code",
   "execution_count": 42,
   "metadata": {},
   "outputs": [
    {
     "data": {
      "text/plain": [
       "RandomForestRegressor(n_estimators=1000, n_jobs=-1, random_state=42)"
      ]
     },
     "execution_count": 42,
     "metadata": {},
     "output_type": "execute_result"
    }
   ],
   "source": [
    "rf = RandomForestRegressor(n_estimators=1000, random_state=42, n_jobs=-1)\n",
    "rf.fit(X_train, y_train)"
   ]
  },
  {
   "cell_type": "code",
   "execution_count": 43,
   "metadata": {},
   "outputs": [
    {
     "name": "stdout",
     "output_type": "stream",
     "text": [
      "MSE: 7963.73691787895\n",
      "Score: 0.23974744291748395\n"
     ]
    }
   ],
   "source": [
    "# Score\n",
    "print(f'MSE: {mean_squared_error(y_valid, rf.predict(X_valid))}')\n",
    "print(f'Score: {rf.score(X_valid, y_valid)}')"
   ]
  },
  {
   "cell_type": "markdown",
   "metadata": {},
   "source": [
    "### XGBoost"
   ]
  },
  {
   "cell_type": "code",
   "execution_count": 29,
   "metadata": {},
   "outputs": [],
   "source": [
    "from xgboost import XGBRegressor"
   ]
  },
  {
   "cell_type": "code",
   "execution_count": 30,
   "metadata": {},
   "outputs": [
    {
     "data": {
      "text/plain": [
       "XGBRegressor(base_score=0.5, booster='gbtree', callbacks=None,\n",
       "             colsample_bylevel=1, colsample_bynode=1, colsample_bytree=1,\n",
       "             early_stopping_rounds=None, enable_categorical=False,\n",
       "             eval_metric=None, gamma=0, gpu_id=-1, grow_policy='depthwise',\n",
       "             importance_type=None, interaction_constraints='',\n",
       "             learning_rate=0.300000012, max_bin=256, max_cat_to_onehot=4,\n",
       "             max_delta_step=0, max_depth=6, max_leaves=0, min_child_weight=1,\n",
       "             missing=nan, monotone_constraints='()', n_estimators=100, n_jobs=0,\n",
       "             num_parallel_tree=1, predictor='auto', random_state=0, reg_alpha=0,\n",
       "             reg_lambda=1, ...)"
      ]
     },
     "execution_count": 30,
     "metadata": {},
     "output_type": "execute_result"
    }
   ],
   "source": [
    "xgb = XGBRegressor()\n",
    "xgb.fit(X_train, y_train)"
   ]
  },
  {
   "cell_type": "code",
   "execution_count": 31,
   "metadata": {},
   "outputs": [
    {
     "name": "stdout",
     "output_type": "stream",
     "text": [
      "MSE: 9407.577867836348\n",
      "Score: 0.10191217970566047\n"
     ]
    }
   ],
   "source": [
    "# Score\n",
    "print(f'MSE: {mean_squared_error(y_valid, xgb.predict(X_valid))}')\n",
    "print(f'Score: {xgb.score(X_valid, y_valid)}')"
   ]
  },
  {
   "cell_type": "markdown",
   "metadata": {},
   "source": [
    "### MLPRegressor"
   ]
  },
  {
   "cell_type": "code",
   "execution_count": 32,
   "metadata": {},
   "outputs": [],
   "source": [
    "from sklearn.neural_network import MLPRegressor"
   ]
  },
  {
   "cell_type": "code",
   "execution_count": 33,
   "metadata": {},
   "outputs": [
    {
     "name": "stderr",
     "output_type": "stream",
     "text": [
      "/Users/macbookpro/opt/anaconda3/lib/python3.9/site-packages/sklearn/neural_network/_multilayer_perceptron.py:614: ConvergenceWarning: Stochastic Optimizer: Maximum iterations (1000) reached and the optimization hasn't converged yet.\n",
      "  warnings.warn(\n"
     ]
    },
    {
     "data": {
      "text/plain": [
       "MLPRegressor(max_iter=1000, random_state=42)"
      ]
     },
     "execution_count": 33,
     "metadata": {},
     "output_type": "execute_result"
    }
   ],
   "source": [
    "mlp = MLPRegressor(max_iter=1000, random_state=42)\n",
    "mlp.fit(X_train, y_train)"
   ]
  },
  {
   "cell_type": "code",
   "execution_count": 34,
   "metadata": {},
   "outputs": [
    {
     "name": "stdout",
     "output_type": "stream",
     "text": [
      "MSE: 8831.038006939058\n",
      "Score: 0.15695115299508744\n"
     ]
    }
   ],
   "source": [
    "# Score\n",
    "print(f'MSE: {mean_squared_error(y_valid, mlp.predict(X_valid))}')\n",
    "print(f'Score: {mlp.score(X_valid, y_valid)}')"
   ]
  },
  {
   "cell_type": "code",
   "execution_count": 46,
   "metadata": {},
   "outputs": [
    {
     "name": "stdout",
     "output_type": "stream",
     "text": [
      "28 -> 74.90953272014757\n",
      "107 -> 157.52035659218677\n",
      "76 -> 111.50561812467527\n",
      "140 -> 108.65921021022584\n",
      "44 -> 202.36756858279156\n",
      "225 -> 135.9746471200466\n",
      "325 -> 242.4189597605154\n",
      "125 -> 122.47279098530126\n",
      "260 -> 205.3943308045002\n",
      "165 -> 247.4248313925117\n",
      "110 -> 229.1500001685955\n",
      "67 -> 112.1226813234508\n",
      "35 -> 115.49597528304615\n",
      "72 -> 103.67107371623914\n",
      "158 -> 274.64397186983194\n",
      "105 -> 96.34772627609732\n",
      "114 -> 74.90953272014757\n",
      "350 -> 389.1046989624474\n",
      "323 -> 135.83804700972166\n",
      "175 -> 231.07107076304914\n",
      "150 -> 85.73665495133878\n",
      "113 -> 96.7441314897892\n",
      "35 -> 89.29030321819334\n",
      "35 -> 69.96169990398528\n",
      "312 -> 181.80126231571882\n",
      "238 -> 199.43098351471252\n",
      "55 -> 98.17861971692135\n",
      "113 -> 104.10166332888458\n",
      "120 -> 93.28066037656424\n",
      "225 -> 142.79917363512516\n",
      "77 -> 123.47057032091708\n",
      "100 -> 85.86713578279281\n",
      "35 -> 62.59804878601902\n",
      "254 -> 195.44062635634162\n",
      "36 -> 67.55200088105218\n",
      "165 -> 119.48633244141706\n",
      "229 -> 309.2975557950293\n",
      "48 -> 191.63674278410085\n",
      "38 -> 100.11742544938456\n",
      "400 -> 244.39194989193217\n",
      "111 -> 547.2628122828053\n",
      "220 -> 128.42452241595024\n",
      "240 -> 202.36756858279156\n",
      "40 -> 93.84785009953461\n",
      "100 -> 74.90953272014757\n",
      "175 -> 126.41327466786697\n",
      "40 -> 99.72102023569266\n",
      "200 -> 286.9879905172048\n",
      "176 -> 134.3878697057379\n",
      "195 -> 149.29552624892963\n",
      "110 -> 245.88243087374036\n",
      "98 -> 89.85749294116371\n",
      "220 -> 107.69561527356359\n",
      "95 -> 107.17484850728852\n",
      "35 -> 90.24777887598474\n",
      "275 -> 101.0172586667907\n",
      "151 -> 215.20593856206602\n",
      "450 -> 237.99189371062818\n",
      "175 -> 255.2190721231234\n",
      "59 -> 199.95786955985847\n",
      "64 -> 126.41327466786697\n",
      "280 -> 217.61563758499912\n",
      "27 -> 89.29030321819334\n",
      "90 -> 93.7112499892097\n",
      "140 -> 133.86098366059196\n",
      "110 -> 127.46092747928799\n",
      "375 -> 253.76684875798168\n",
      "290 -> 126.93404143414205\n",
      "154 -> 136.8877458823006\n",
      "40 -> 95.82084023095138\n",
      "75 -> 123.47668959978796\n",
      "150 -> 88.99019443700193\n",
      "188 -> 237.1245952064664\n",
      "125 -> 121.060871297984\n",
      "27 -> 69.62128744496944\n",
      "195 -> 206.35792574116246\n",
      "55 -> 98.13831603909692\n",
      "100 -> 294.4820197204106\n",
      "265 -> 297.8472510861917\n",
      "36 -> 191.97715524311667\n",
      "160 -> 61.1136870830817\n",
      "178 -> 241.55166125635364\n",
      "120 -> 80.87899928880609\n",
      "215 -> 155.30325043425466\n",
      "28 -> 89.20012606456373\n",
      "225 -> 320.262185932098\n",
      "35 -> 105.59214431069277\n",
      "47 -> 105.10556194337127\n",
      "38 -> 66.49822879076031\n",
      "185 -> 153.28588340730053\n",
      "107 -> 66.49822879076031\n",
      "85 -> 251.84577816352805\n",
      "265 -> 230.1074758263869\n",
      "57 -> 89.33060689601777\n",
      "60 -> 57.1233299247108\n",
      "52 -> 101.20538193862998\n",
      "192 -> 145.49164267668883\n",
      "195 -> 244.8286587834485\n",
      "110 -> 58.5175144740185\n",
      "135 -> 114.53238034638389\n",
      "33 -> 311.7307426313407\n",
      "155 -> 78.89988987851845\n",
      "79 -> 99.28431134417633\n",
      "265 -> 236.50753200769088\n",
      "73 -> 89.29030321819334\n",
      "260 -> 332.75402417348573\n",
      "250 -> 79.91540435214384\n",
      "61 -> 85.73665495133878\n",
      "129 -> 245.88243087374036\n",
      "34 -> 88.32670828153108\n",
      "150 -> 218.66940967529098\n",
      "175 -> 87.27905547011008\n",
      "119 -> 66.49822879076031\n",
      "409 -> 209.91157400801703\n",
      "45 -> 81.30958890145155\n",
      "400 -> 375.2151143741427\n",
      "75 -> 114.10179073373844\n",
      "300 -> 252.56525707367496\n",
      "55 -> 99.72102023569266\n",
      "240 -> 229.05370373609503\n",
      "160 -> 249.1919631140796\n",
      "45 -> 82.36336099174342\n",
      "125 -> 119.48633244141706\n",
      "149 -> 227.75581561928777\n",
      "38 -> 93.62107283558008\n",
      "169 -> 133.86098366059196\n",
      "58 -> 108.13232416507991\n",
      "200 -> 205.83103969601652\n",
      "93 -> 237.56130409798274\n",
      "310 -> 207.31540139895384\n",
      "250 -> 150.68971079823734\n",
      "177 -> 147.41271327114248\n",
      "190 -> 78.37300383337252\n",
      "26 -> 63.03475767753534\n",
      "315 -> 172.56091749883632\n",
      "55 -> 55.580929405939486\n",
      "210 -> 167.02408660398112\n",
      "158 -> 134.3878697057379\n",
      "40 -> 211.89068341830466\n",
      "450 -> 328.76978629398576\n",
      "275 -> 229.58058978124095\n",
      "30 -> 71.35588445329299\n",
      "210 -> 205.83103969601652\n",
      "310 -> 283.9164550245101\n",
      "64 -> 110.7284967741431\n",
      "58 -> 190.79302151292433\n",
      "210 -> 133.3617613927518\n",
      "40 -> 146.1724675947205\n",
      "56 -> 69.95558062511441\n",
      "300 -> 235.9867652414158\n",
      "300 -> 214.15216647177417\n",
      "350 -> 261.59974348070864\n",
      "229 -> 179.94368958323366\n",
      "36 -> 119.57650959504666\n",
      "390 -> 245.97260802736997\n",
      "350 -> 212.75798192246646\n",
      "240 -> 225.68652905537056\n",
      "160 -> 88.7634171730474\n",
      "225 -> 241.02477521120773\n",
      "35 -> 126.43481916630185\n",
      "96 -> 106.21125357062627\n",
      "130 -> 118.08602861323847\n",
      "125 -> 93.75155366703413\n",
      "75 -> 107.17484850728852\n",
      "60 -> 101.20538193862998\n",
      "45 -> 106.64796246214259\n",
      "45 -> 133.3617613927518\n",
      "45 -> 73.95205706235616\n",
      "114 -> 123.86697553460898\n",
      "280 -> 141.108953522339\n",
      "176 -> 144.7782830454128\n",
      "60 -> 139.86258856704612\n"
     ]
    }
   ],
   "source": [
    "for y_true, y_predict in zip(y_valid, lr.predict(X_valid)):\n",
    "    print(f'{y_true} -> {y_predict}')"
   ]
  },
  {
   "cell_type": "markdown",
   "metadata": {},
   "source": [
    "## Final Model"
   ]
  },
  {
   "cell_type": "code",
   "execution_count": 22,
   "metadata": {},
   "outputs": [],
   "source": [
    "model = lr"
   ]
  },
  {
   "cell_type": "code",
   "execution_count": 23,
   "metadata": {},
   "outputs": [
    {
     "data": {
      "text/plain": [
       "['../../Code/Modelling/Models/model.pkl']"
      ]
     },
     "execution_count": 23,
     "metadata": {},
     "output_type": "execute_result"
    }
   ],
   "source": [
    "# Save Model\n",
    "joblib.dump(model, '../../Code/Modelling/Models/model.pkl', compress=9)"
   ]
  },
  {
   "cell_type": "markdown",
   "metadata": {},
   "source": [
    "## Feature Importance"
   ]
  },
  {
   "cell_type": "code",
   "execution_count": 52,
   "metadata": {},
   "outputs": [],
   "source": [
    "from matplotlib import pyplot as plt\n",
    "import seaborn as sns"
   ]
  },
  {
   "cell_type": "code",
   "execution_count": 53,
   "metadata": {},
   "outputs": [
    {
     "data": {
      "text/plain": [
       "<AxesSubplot:xlabel='Importance', ylabel='Feature'>"
      ]
     },
     "execution_count": 53,
     "metadata": {},
     "output_type": "execute_result"
    },
    {
     "data": {
      "image/png": "[encoded data removed]",
      "text/plain": [
       "<Figure size 432x288 with 1 Axes>"
      ]
     },
     "metadata": {},
     "output_type": "display_data"
    }
   ],
   "source": [
    "# Plot Feature importance of Linear Regression Model\n",
    "imp = pd.DataFrame(sorted(zip(X.columns, model.coef_), key=lambda x: x[1]), columns=['Feature', 'Importance'])\n",
    "imp.sort_values(by='Importance', inplace=True, ascending=False)\n",
    "sns.barplot(x='Importance', y='Feature', data=imp)"
   ]
  },
  {
   "cell_type": "code",
   "execution_count": null,
   "metadata": {},
   "outputs": [],
   "source": []
  }
 ],
 "metadata": {
  "interpreter": {
   "hash": "ecbb0100d1afdd2500b7e44462920f8a5c3170e79139b35521f055287792d739"
  },
  "kernelspec": {
   "display_name": "Python 3.9.2 ('sw')",
   "language": "python",
   "name": "python3"
  },
  "language_info": {
   "codemirror_mode": {
    "name": "ipython",
    "version": 3
   },
   "file_extension": ".py",
   "mimetype": "text/x-python",
   "name": "python",
   "nbconvert_exporter": "python",
   "pygments_lexer": "ipython3",
   "version": "3.9.7"
  },
  "orig_nbformat": 4
 },
 "nbformat": 4,
 "nbformat_minor": 2
}
