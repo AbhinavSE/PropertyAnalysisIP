{
 "cells": [
  {
   "cell_type": "markdown",
   "metadata": {},
   "source": [
    "# Imports"
   ]
  },
  {
   "cell_type": "code",
   "execution_count": 41,
   "metadata": {},
   "outputs": [],
   "source": [
    "import pandas as pd\n",
    "import sys\n",
    "import joblib\n",
    "sys.path.append('../')\n",
    "from Utils.location_utils import LocationUtils\n",
    "sys.path.remove('../')\n",
    "import numpy as np\n",
    "import matplotlib.pyplot as plt\n",
    "import seaborn as sns\n",
    "from sklearn.linear_model import LinearRegression\n",
    "import matplotlib.pyplot as plt\n",
    "import warnings\n",
    "warnings.filterwarnings('ignore')"
   ]
  },
  {
   "cell_type": "code",
   "execution_count": 34,
   "metadata": {},
   "outputs": [
    {
     "data": {
      "text/html": [
       "<div>\n",
       "<style scoped>\n",
       "    .dataframe tbody tr th:only-of-type {\n",
       "        vertical-align: middle;\n",
       "    }\n",
       "\n",
       "    .dataframe tbody tr th {\n",
       "        vertical-align: top;\n",
       "    }\n",
       "\n",
       "    .dataframe thead th {\n",
       "        text-align: right;\n",
       "    }\n",
       "</style>\n",
       "<table border=\"1\" class=\"dataframe\">\n",
       "  <thead>\n",
       "    <tr style=\"text-align: right;\">\n",
       "      <th></th>\n",
       "      <th>Bedrooms</th>\n",
       "      <th>Car parking</th>\n",
       "      <th>Furnishing</th>\n",
       "      <th>Bathrooms</th>\n",
       "      <th>Floor</th>\n",
       "      <th>Status</th>\n",
       "      <th>Location_Score</th>\n",
       "      <th>Total Floors</th>\n",
       "    </tr>\n",
       "  </thead>\n",
       "  <tbody>\n",
       "    <tr>\n",
       "      <th>0</th>\n",
       "      <td>3</td>\n",
       "      <td>1</td>\n",
       "      <td>1</td>\n",
       "      <td>2</td>\n",
       "      <td>1</td>\n",
       "      <td>0</td>\n",
       "      <td>9.0</td>\n",
       "      <td>1</td>\n",
       "    </tr>\n",
       "    <tr>\n",
       "      <th>1</th>\n",
       "      <td>2</td>\n",
       "      <td>0</td>\n",
       "      <td>1</td>\n",
       "      <td>2</td>\n",
       "      <td>2</td>\n",
       "      <td>0</td>\n",
       "      <td>9.0</td>\n",
       "      <td>2</td>\n",
       "    </tr>\n",
       "    <tr>\n",
       "      <th>2</th>\n",
       "      <td>2</td>\n",
       "      <td>1</td>\n",
       "      <td>1</td>\n",
       "      <td>2</td>\n",
       "      <td>1</td>\n",
       "      <td>0</td>\n",
       "      <td>9.0</td>\n",
       "      <td>4</td>\n",
       "    </tr>\n",
       "    <tr>\n",
       "      <th>3</th>\n",
       "      <td>3</td>\n",
       "      <td>0</td>\n",
       "      <td>1</td>\n",
       "      <td>3</td>\n",
       "      <td>1</td>\n",
       "      <td>0</td>\n",
       "      <td>9.0</td>\n",
       "      <td>4</td>\n",
       "    </tr>\n",
       "    <tr>\n",
       "      <th>4</th>\n",
       "      <td>2</td>\n",
       "      <td>1</td>\n",
       "      <td>1</td>\n",
       "      <td>2</td>\n",
       "      <td>1</td>\n",
       "      <td>0</td>\n",
       "      <td>4.0</td>\n",
       "      <td>4</td>\n",
       "    </tr>\n",
       "  </tbody>\n",
       "</table>\n",
       "</div>"
      ],
      "text/plain": [
       "   Bedrooms  Car parking  Furnishing  Bathrooms  Floor  Status  \\\n",
       "0         3            1           1          2      1       0   \n",
       "1         2            0           1          2      2       0   \n",
       "2         2            1           1          2      1       0   \n",
       "3         3            0           1          3      1       0   \n",
       "4         2            1           1          2      1       0   \n",
       "\n",
       "   Location_Score  Total Floors  \n",
       "0             9.0             1  \n",
       "1             9.0             2  \n",
       "2             9.0             4  \n",
       "3             9.0             4  \n",
       "4             4.0             4  "
      ]
     },
     "execution_count": 34,
     "metadata": {},
     "output_type": "execute_result"
    }
   ],
   "source": [
    "df = pd.read_csv('../../Data/magicbricks_lr_encoded.csv').drop(['Price Breakup'], axis=1)\n",
    "df.head()"
   ]
  },
  {
   "cell_type": "markdown",
   "metadata": {},
   "source": [
    "# Graphs"
   ]
  },
  {
   "cell_type": "markdown",
   "metadata": {},
   "source": [
    "## Distributions"
   ]
  },
  {
   "cell_type": "code",
   "execution_count": 35,
   "metadata": {},
   "outputs": [
    {
     "data": {
      "text/plain": [
       "RandomForestRegressor(criterion='mse', n_estimators=1000, n_jobs=-1,\n",
       "                      random_state=42)"
      ]
     },
     "execution_count": 35,
     "metadata": {},
     "output_type": "execute_result"
    }
   ],
   "source": [
    "model = joblib.load('../Modelling/Models/rf.pkl')\n",
    "model"
   ]
  },
  {
   "cell_type": "code",
   "execution_count": 36,
   "metadata": {},
   "outputs": [
    {
     "data": {
      "text/plain": [
       "(1179, 8)"
      ]
     },
     "execution_count": 36,
     "metadata": {},
     "output_type": "execute_result"
    }
   ],
   "source": [
    "df.shape"
   ]
  },
  {
   "cell_type": "code",
   "execution_count": 46,
   "metadata": {},
   "outputs": [
    {
     "data": {
      "text/plain": [
       "array([[3., 1., 1., 2., 1., 0., 9., 1.]])"
      ]
     },
     "execution_count": 46,
     "metadata": {},
     "output_type": "execute_result"
    }
   ],
   "source": [
    "random_sample = df.iloc[0,:].to_numpy().reshape(1,-1)\n",
    "random_sample"
   ]
  },
  {
   "cell_type": "code",
   "execution_count": 38,
   "metadata": {},
   "outputs": [
    {
     "data": {
      "text/html": [
       "<div>\n",
       "<style scoped>\n",
       "    .dataframe tbody tr th:only-of-type {\n",
       "        vertical-align: middle;\n",
       "    }\n",
       "\n",
       "    .dataframe tbody tr th {\n",
       "        vertical-align: top;\n",
       "    }\n",
       "\n",
       "    .dataframe thead th {\n",
       "        text-align: right;\n",
       "    }\n",
       "</style>\n",
       "<table border=\"1\" class=\"dataframe\">\n",
       "  <thead>\n",
       "    <tr style=\"text-align: right;\">\n",
       "      <th></th>\n",
       "      <th>Bedrooms</th>\n",
       "      <th>Car parking</th>\n",
       "      <th>Furnishing</th>\n",
       "      <th>Bathrooms</th>\n",
       "      <th>Floor</th>\n",
       "      <th>Status</th>\n",
       "      <th>Location_Score</th>\n",
       "      <th>Total Floors</th>\n",
       "    </tr>\n",
       "  </thead>\n",
       "  <tbody>\n",
       "    <tr>\n",
       "      <th>count</th>\n",
       "      <td>1179.000000</td>\n",
       "      <td>1179.000000</td>\n",
       "      <td>1179.000000</td>\n",
       "      <td>1179.000000</td>\n",
       "      <td>1179.000000</td>\n",
       "      <td>1179.000000</td>\n",
       "      <td>1179.000000</td>\n",
       "      <td>1179.000000</td>\n",
       "    </tr>\n",
       "    <tr>\n",
       "      <th>mean</th>\n",
       "      <td>2.649703</td>\n",
       "      <td>1.109415</td>\n",
       "      <td>1.162002</td>\n",
       "      <td>2.377439</td>\n",
       "      <td>2.447837</td>\n",
       "      <td>0.005089</td>\n",
       "      <td>6.487701</td>\n",
       "      <td>2.531807</td>\n",
       "    </tr>\n",
       "    <tr>\n",
       "      <th>std</th>\n",
       "      <td>0.477265</td>\n",
       "      <td>4.000518</td>\n",
       "      <td>0.592868</td>\n",
       "      <td>0.555143</td>\n",
       "      <td>3.124407</td>\n",
       "      <td>0.071186</td>\n",
       "      <td>2.259590</td>\n",
       "      <td>3.124681</td>\n",
       "    </tr>\n",
       "    <tr>\n",
       "      <th>min</th>\n",
       "      <td>2.000000</td>\n",
       "      <td>0.000000</td>\n",
       "      <td>0.000000</td>\n",
       "      <td>2.000000</td>\n",
       "      <td>-1.000000</td>\n",
       "      <td>0.000000</td>\n",
       "      <td>1.000000</td>\n",
       "      <td>-1.000000</td>\n",
       "    </tr>\n",
       "    <tr>\n",
       "      <th>25%</th>\n",
       "      <td>2.000000</td>\n",
       "      <td>0.000000</td>\n",
       "      <td>1.000000</td>\n",
       "      <td>2.000000</td>\n",
       "      <td>1.000000</td>\n",
       "      <td>0.000000</td>\n",
       "      <td>5.000000</td>\n",
       "      <td>1.000000</td>\n",
       "    </tr>\n",
       "    <tr>\n",
       "      <th>50%</th>\n",
       "      <td>3.000000</td>\n",
       "      <td>1.000000</td>\n",
       "      <td>1.000000</td>\n",
       "      <td>2.000000</td>\n",
       "      <td>2.000000</td>\n",
       "      <td>0.000000</td>\n",
       "      <td>6.000000</td>\n",
       "      <td>2.000000</td>\n",
       "    </tr>\n",
       "    <tr>\n",
       "      <th>75%</th>\n",
       "      <td>3.000000</td>\n",
       "      <td>2.000000</td>\n",
       "      <td>2.000000</td>\n",
       "      <td>3.000000</td>\n",
       "      <td>3.000000</td>\n",
       "      <td>0.000000</td>\n",
       "      <td>8.000000</td>\n",
       "      <td>3.000000</td>\n",
       "    </tr>\n",
       "    <tr>\n",
       "      <th>max</th>\n",
       "      <td>3.000000</td>\n",
       "      <td>132.000000</td>\n",
       "      <td>2.000000</td>\n",
       "      <td>5.000000</td>\n",
       "      <td>40.000000</td>\n",
       "      <td>1.000000</td>\n",
       "      <td>10.000000</td>\n",
       "      <td>40.000000</td>\n",
       "    </tr>\n",
       "  </tbody>\n",
       "</table>\n",
       "</div>"
      ],
      "text/plain": [
       "          Bedrooms  Car parking   Furnishing    Bathrooms        Floor  \\\n",
       "count  1179.000000  1179.000000  1179.000000  1179.000000  1179.000000   \n",
       "mean      2.649703     1.109415     1.162002     2.377439     2.447837   \n",
       "std       0.477265     4.000518     0.592868     0.555143     3.124407   \n",
       "min       2.000000     0.000000     0.000000     2.000000    -1.000000   \n",
       "25%       2.000000     0.000000     1.000000     2.000000     1.000000   \n",
       "50%       3.000000     1.000000     1.000000     2.000000     2.000000   \n",
       "75%       3.000000     2.000000     2.000000     3.000000     3.000000   \n",
       "max       3.000000   132.000000     2.000000     5.000000    40.000000   \n",
       "\n",
       "            Status  Location_Score  Total Floors  \n",
       "count  1179.000000     1179.000000   1179.000000  \n",
       "mean      0.005089        6.487701      2.531807  \n",
       "std       0.071186        2.259590      3.124681  \n",
       "min       0.000000        1.000000     -1.000000  \n",
       "25%       0.000000        5.000000      1.000000  \n",
       "50%       0.000000        6.000000      2.000000  \n",
       "75%       0.000000        8.000000      3.000000  \n",
       "max       1.000000       10.000000     40.000000  "
      ]
     },
     "execution_count": 38,
     "metadata": {},
     "output_type": "execute_result"
    }
   ],
   "source": [
    "df.describe()"
   ]
  },
  {
   "cell_type": "code",
   "execution_count": 48,
   "metadata": {},
   "outputs": [
    {
     "name": "stdout",
     "output_type": "stream",
     "text": [
      "[[0. 1. 1. 2. 1. 0. 9. 1.]]\n",
      "[[1. 1. 1. 2. 1. 0. 9. 1.]]\n",
      "[[2. 1. 1. 2. 1. 0. 9. 1.]]\n",
      "[[3. 1. 1. 2. 1. 0. 9. 1.]]\n",
      "[[4. 1. 1. 2. 1. 0. 9. 1.]]\n",
      "[[5. 1. 1. 2. 1. 0. 9. 1.]]\n",
      "[[6. 1. 1. 2. 1. 0. 9. 1.]]\n",
      "[[7. 1. 1. 2. 1. 0. 9. 1.]]\n",
      "[[8. 1. 1. 2. 1. 0. 9. 1.]]\n",
      "[[9. 1. 1. 2. 1. 0. 9. 1.]]\n"
     ]
    },
    {
     "data": {
      "text/plain": [
       "[<matplotlib.lines.Line2D at 0x7fb262c90c40>]"
      ]
     },
     "execution_count": 48,
     "metadata": {},
     "output_type": "execute_result"
    },
    {
     "data": {
      "image/png": "[encoded data removed]",
      "text/plain": [
       "<Figure size 432x288 with 1 Axes>"
      ]
     },
     "metadata": {
      "needs_background": "light"
     },
     "output_type": "display_data"
    }
   ],
   "source": [
    "bedroom_tuning = range(0, 10)\n",
    "bedroom_outputs = []\n",
    "bedroom_sample = np.array(random_sample)\n",
    "\n",
    "for i in bedroom_tuning:\n",
    "    bedroom_sample[0][0] = i\n",
    "    print(bedroom_sample)\n",
    "    pred = model.predict(random_sample)\n",
    "    bedroom_outputs.append(pred)\n",
    "\n",
    "plt.plot(bedroom_tuning, bedroom_outputs)"
   ]
  },
  {
   "cell_type": "code",
   "execution_count": 49,
   "metadata": {},
   "outputs": [
    {
     "data": {
      "text/plain": [
       "[<matplotlib.lines.Line2D at 0x7fb26382bfa0>]"
      ]
     },
     "execution_count": 49,
     "metadata": {},
     "output_type": "execute_result"
    },
    {
     "data": {
      "image/png": "[encoded data removed]",
      "text/plain": [
       "<Figure size 432x288 with 1 Axes>"
      ]
     },
     "metadata": {
      "needs_background": "light"
     },
     "output_type": "display_data"
    }
   ],
   "source": [
    "bathroom_tuning = range(0, 10)\n",
    "bathroom_outputs = []\n",
    "bathroom_sample = np.array(random_sample)\n",
    "for i in bathroom_tuning:\n",
    "    bathroom_sample[0][1] = i\n",
    "    pred = model.predict(random_sample)\n",
    "    bathroom_outputs.append(pred)\n",
    "\n",
    "plt.plot(bathroom_tuning, bathroom_outputs)"
   ]
  }
 ],
 "metadata": {
  "interpreter": {
   "hash": "ecbb0100d1afdd2500b7e44462920f8a5c3170e79139b35521f055287792d739"
  },
  "kernelspec": {
   "display_name": "Python 3.9.2 ('sw')",
   "language": "python",
   "name": "python3"
  },
  "language_info": {
   "codemirror_mode": {
    "name": "ipython",
    "version": 3
   },
   "file_extension": ".py",
   "mimetype": "text/x-python",
   "name": "python",
   "nbconvert_exporter": "python",
   "pygments_lexer": "ipython3",
   "version": "3.8.5"
  },
  "orig_nbformat": 4
 },
 "nbformat": 4,
 "nbformat_minor": 2
}
