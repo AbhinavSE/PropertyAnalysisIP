{
 "cells": [
  {
   "cell_type": "markdown",
   "metadata": {},
   "source": [
    "# Imports"
   ]
  },
  {
   "cell_type": "code",
   "execution_count": 24,
   "metadata": {},
   "outputs": [],
   "source": [
    "import pandas as pd\n",
    "import sys\n",
    "sys.path.append('/Users/macbookpro/Documents/Sem/sem8/ip/PropertyAnalysisIP/Code/')\n",
    "from Utils.location_utils import LocationUtils\n",
    "sys.path.remove('/Users/macbookpro/Documents/Sem/sem8/ip/PropertyAnalysisIP/Code/')\n",
    "import matplotlib.pyplot as plt\n",
    "import seaborn as sns"
   ]
  },
  {
   "cell_type": "code",
   "execution_count": 32,
   "metadata": {},
   "outputs": [
    {
     "data": {
      "text/html": [
       "<div>\n",
       "<style scoped>\n",
       "    .dataframe tbody tr th:only-of-type {\n",
       "        vertical-align: middle;\n",
       "    }\n",
       "\n",
       "    .dataframe tbody tr th {\n",
       "        vertical-align: top;\n",
       "    }\n",
       "\n",
       "    .dataframe thead th {\n",
       "        text-align: right;\n",
       "    }\n",
       "</style>\n",
       "<table border=\"1\" class=\"dataframe\">\n",
       "  <thead>\n",
       "    <tr style=\"text-align: right;\">\n",
       "      <th></th>\n",
       "      <th>Bedrooms</th>\n",
       "      <th>Car parking</th>\n",
       "      <th>Furnishing</th>\n",
       "      <th>Bathrooms</th>\n",
       "      <th>Floor</th>\n",
       "      <th>Status</th>\n",
       "      <th>Price Breakup</th>\n",
       "      <th>Location_Score</th>\n",
       "      <th>Total Floors</th>\n",
       "    </tr>\n",
       "  </thead>\n",
       "  <tbody>\n",
       "    <tr>\n",
       "      <th>0</th>\n",
       "      <td>3</td>\n",
       "      <td>1</td>\n",
       "      <td>Semi-Furnished</td>\n",
       "      <td>2</td>\n",
       "      <td>1</td>\n",
       "      <td>Ready to Move</td>\n",
       "      <td>67</td>\n",
       "      <td>9.0</td>\n",
       "      <td>1</td>\n",
       "    </tr>\n",
       "    <tr>\n",
       "      <th>1</th>\n",
       "      <td>2</td>\n",
       "      <td>0</td>\n",
       "      <td>Semi-Furnished</td>\n",
       "      <td>2</td>\n",
       "      <td>2</td>\n",
       "      <td>Ready to Move</td>\n",
       "      <td>21</td>\n",
       "      <td>9.0</td>\n",
       "      <td>2</td>\n",
       "    </tr>\n",
       "    <tr>\n",
       "      <th>2</th>\n",
       "      <td>2</td>\n",
       "      <td>1</td>\n",
       "      <td>Semi-Furnished</td>\n",
       "      <td>2</td>\n",
       "      <td>1</td>\n",
       "      <td>Ready to Move</td>\n",
       "      <td>27</td>\n",
       "      <td>9.0</td>\n",
       "      <td>4</td>\n",
       "    </tr>\n",
       "    <tr>\n",
       "      <th>3</th>\n",
       "      <td>3</td>\n",
       "      <td>0</td>\n",
       "      <td>Semi-Furnished</td>\n",
       "      <td>3</td>\n",
       "      <td>1</td>\n",
       "      <td>Ready to Move</td>\n",
       "      <td>250</td>\n",
       "      <td>9.0</td>\n",
       "      <td>4</td>\n",
       "    </tr>\n",
       "    <tr>\n",
       "      <th>4</th>\n",
       "      <td>2</td>\n",
       "      <td>1</td>\n",
       "      <td>Semi-Furnished</td>\n",
       "      <td>2</td>\n",
       "      <td>1</td>\n",
       "      <td>Ready to Move</td>\n",
       "      <td>41</td>\n",
       "      <td>4.0</td>\n",
       "      <td>4</td>\n",
       "    </tr>\n",
       "  </tbody>\n",
       "</table>\n",
       "</div>"
      ],
      "text/plain": [
       "   Bedrooms  Car parking      Furnishing  Bathrooms  Floor         Status  \\\n",
       "0         3            1  Semi-Furnished          2      1  Ready to Move   \n",
       "1         2            0  Semi-Furnished          2      2  Ready to Move   \n",
       "2         2            1  Semi-Furnished          2      1  Ready to Move   \n",
       "3         3            0  Semi-Furnished          3      1  Ready to Move   \n",
       "4         2            1  Semi-Furnished          2      1  Ready to Move   \n",
       "\n",
       "   Price Breakup  Location_Score  Total Floors  \n",
       "0             67             9.0             1  \n",
       "1             21             9.0             2  \n",
       "2             27             9.0             4  \n",
       "3            250             9.0             4  \n",
       "4             41             4.0             4  "
      ]
     },
     "execution_count": 32,
     "metadata": {},
     "output_type": "execute_result"
    }
   ],
   "source": [
    "df = pd.read_csv('../../Data/magicbricks_lr_modified.csv')\n",
    "df.head()"
   ]
  },
  {
   "cell_type": "markdown",
   "metadata": {},
   "source": [
    "# Graphs"
   ]
  },
  {
   "cell_type": "markdown",
   "metadata": {},
   "source": [
    "## Distributions"
   ]
  },
  {
   "cell_type": "code",
   "execution_count": 30,
   "metadata": {},
   "outputs": [
    {
     "data": {
      "text/plain": [
       "<seaborn.axisgrid.FacetGrid at 0x7fda52900250>"
      ]
     },
     "execution_count": 30,
     "metadata": {},
     "output_type": "execute_result"
    },
    {
     "data": {
      "image/png": "[encoded data removed]",
      "text/plain": [
       "<Figure size 470.875x360 with 1 Axes>"
      ]
     },
     "metadata": {
      "needs_background": "light"
     },
     "output_type": "display_data"
    }
   ],
   "source": [
    "sns.displot(df)"
   ]
  },
  {
   "cell_type": "code",
   "execution_count": null,
   "metadata": {},
   "outputs": [],
   "source": [
    "# G"
   ]
  }
 ],
 "metadata": {
  "interpreter": {
   "hash": "ecbb0100d1afdd2500b7e44462920f8a5c3170e79139b35521f055287792d739"
  },
  "kernelspec": {
   "display_name": "Python 3.9.2 ('sw')",
   "language": "python",
   "name": "python3"
  },
  "language_info": {
   "codemirror_mode": {
    "name": "ipython",
    "version": 3
   },
   "file_extension": ".py",
   "mimetype": "text/x-python",
   "name": "python",
   "nbconvert_exporter": "python",
   "pygments_lexer": "ipython3",
   "version": "3.9.2"
  },
  "orig_nbformat": 4
 },
 "nbformat": 4,
 "nbformat_minor": 2
}
